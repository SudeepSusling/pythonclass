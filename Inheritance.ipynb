{
 "cells": [
  {
   "cell_type": "code",
   "execution_count": 2,
   "id": "9b07c3f5",
   "metadata": {},
   "outputs": [
    {
     "name": "stdout",
     "output_type": "stream",
     "text": [
      "Ram\n",
      "34\n",
      "Ram 34\n"
     ]
    }
   ],
   "source": [
    " class Info:\n",
    "        def __init__(self,name,age):\n",
    "            self.name = name\n",
    "            self.age = age\n",
    "            \n",
    "class Data(Info):\n",
    "    def data(self):\n",
    "        print(self.name,self.age)\n",
    "    \n",
    "obj = Data('Ram',34)\n",
    "print(obj.name)\n",
    "print(obj.age)\n",
    "obj.data()"
   ]
  },
  {
   "cell_type": "code",
   "execution_count": null,
   "id": "0b41264b",
   "metadata": {},
   "outputs": [],
   "source": [
    "class A:\n",
    "    <operations>\n",
    "\n",
    "class B(A):\n",
    "    <operations>\n",
    "    \n",
    "obj = B()"
   ]
  },
  {
   "cell_type": "code",
   "execution_count": 6,
   "id": "9b99057b",
   "metadata": {},
   "outputs": [
    {
     "name": "stdout",
     "output_type": "stream",
     "text": [
      "Ram\n",
      "34\n",
      "Ram 34\n",
      "Hello I am Ram I am 34\n"
     ]
    }
   ],
   "source": [
    " class Info:\n",
    "        def info(self):\n",
    "            print(f\"Hello I am {self.name} I am {self.age}\")\n",
    "        \n",
    "            \n",
    "class Data(Info):\n",
    "    def __init__(self,name,age):\n",
    "            self.name = name\n",
    "            self.age = age\n",
    "    \n",
    "    def data(self):\n",
    "        print(self.name,self.age)\n",
    "    \n",
    "obj = Data('Ram',34)\n",
    "print(obj.name)\n",
    "print(obj.age)\n",
    "obj.data()\n",
    "obj.info()"
   ]
  },
  {
   "cell_type": "code",
   "execution_count": 7,
   "id": "64756658",
   "metadata": {},
   "outputs": [
    {
     "name": "stdout",
     "output_type": "stream",
     "text": [
      "Ram\n",
      "34\n",
      "Ram 34 Kathmandu\n",
      "Hello I am Ram I am 34\n"
     ]
    }
   ],
   "source": [
    " class Info:\n",
    "        def __init__(self,add):\n",
    "            self.add = add\n",
    "            \n",
    "        def info(self):\n",
    "            print(f\"Hello I am {self.name} I am {self.age}\")\n",
    "        \n",
    "            \n",
    "class Data(Info):\n",
    "    def __init__(self,name,age,add):\n",
    "            self.name = name\n",
    "            self.age = age\n",
    "            Info.__init__(self,add)\n",
    "    \n",
    "    \n",
    "    def data(self):\n",
    "        print(self.name,self.age,self.add)\n",
    "    \n",
    "obj = Data('Ram',34,\"Kathmandu\")\n",
    "print(obj.name)\n",
    "print(obj.age)\n",
    "obj.data()\n",
    "obj.info()"
   ]
  },
  {
   "cell_type": "code",
   "execution_count": 9,
   "id": "d157cff3",
   "metadata": {},
   "outputs": [
    {
     "name": "stdout",
     "output_type": "stream",
     "text": [
      "Enter name = Ram\n",
      "Enter age = 34\n",
      "Enter add = Kathmandu\n",
      "Ram\n",
      "34\n",
      "Ram 34 Kathmandu\n",
      "Hello I am Ram I am 34\n"
     ]
    }
   ],
   "source": [
    " class Info:\n",
    "        def __init__(self):\n",
    "            self.name = input(\"Enter name = \")\n",
    "            self.age = int(input(\"Enter age = \"))\n",
    "            self.add = input(\"Enter add = \")\n",
    "            \n",
    "        def info(self):\n",
    "            print(f\"Hello I am {self.name} I am {self.age}\")\n",
    "        \n",
    "            \n",
    "class Data(Info):\n",
    "\n",
    "    def data(self):\n",
    "        print(self.name,self.age,self.add)\n",
    "    \n",
    "obj = Data()\n",
    "print(obj.name)\n",
    "print(obj.age)\n",
    "obj.data()\n",
    "obj.info()"
   ]
  },
  {
   "cell_type": "code",
   "execution_count": 10,
   "id": "6433a045",
   "metadata": {},
   "outputs": [],
   "source": [
    "class A:\n",
    "    pass\n",
    "class B(A):\n",
    "    pass\n",
    "class C(B):\n",
    "    pass\n",
    "\n",
    "obj = C()"
   ]
  },
  {
   "cell_type": "code",
   "execution_count": 16,
   "id": "c081b3b6",
   "metadata": {},
   "outputs": [
    {
     "name": "stdout",
     "output_type": "stream",
     "text": [
      "Ram\n",
      "78\n",
      "Ram 78 Kathmandu\n",
      "Hello I am Ram I am 78\n"
     ]
    }
   ],
   "source": [
    " class A:\n",
    "        def __init__(self,add):\n",
    "            self.add = add\n",
    "            \n",
    "        def info(self):\n",
    "            print(f\"Hello I am {self.name} I am {self.age}\")\n",
    "        \n",
    "class B(A):\n",
    "    def __init__(self,age,add):\n",
    "        self.age = age\n",
    "        A.__init__(self,add)\n",
    "        \n",
    "class C(B):\n",
    "    def __init__(self,name,age,add):\n",
    "            self.name = name\n",
    "            B.__init__(self,age,add)\n",
    "\n",
    "    def data(self):\n",
    "        print(self.name,self.age,self.add)\n",
    "    \n",
    "obj = C('Ram',78,'Kathmandu')\n",
    "print(obj.name)\n",
    "print(obj.age)\n",
    "obj.data()\n",
    "obj.info()"
   ]
  },
  {
   "cell_type": "code",
   "execution_count": 17,
   "id": "369b5641",
   "metadata": {},
   "outputs": [
    {
     "name": "stdout",
     "output_type": "stream",
     "text": [
      "Ram\n",
      "78\n",
      "Ram 78 Kathmandu\n",
      "Hello I am Ram I am 78\n"
     ]
    }
   ],
   "source": [
    " class A:\n",
    "        def __init__(self,add):\n",
    "            self.add = add\n",
    "            \n",
    "        def info(self):\n",
    "            print(f\"Hello I am {self.name} I am {self.age}\")\n",
    "        \n",
    "class B():\n",
    "    def __init__(self,age):\n",
    "        self.age = age\n",
    "        \n",
    "class C(A,B):\n",
    "    def __init__(self,name,age,add):\n",
    "            self.name = name\n",
    "            B.__init__(self,age)\n",
    "            A.__init__(self,add)\n",
    "\n",
    "    def data(self):\n",
    "        print(self.name,self.age,self.add)\n",
    "    \n",
    "obj = C('Ram',78,'Kathmandu')\n",
    "print(obj.name)\n",
    "print(obj.age)\n",
    "obj.data()\n",
    "obj.info()"
   ]
  },
  {
   "cell_type": "code",
   "execution_count": 1,
   "id": "c0a4c9f5",
   "metadata": {
    "scrolled": true
   },
   "outputs": [
    {
     "name": "stdout",
     "output_type": "stream",
     "text": [
      "Ram\n",
      "34\n",
      "Kathmandu\n"
     ]
    }
   ],
   "source": [
    "# Public Attribute\n",
    "class Info:\n",
    "    def __init__(self,name,age,add):\n",
    "        self.name = name\n",
    "        self.age = age\n",
    "        self.add = add\n",
    "        \n",
    "obj = Info(\"Ram\",34,\"Kathmandu\")\n",
    "print(obj.name)\n",
    "print(obj.age)\n",
    "print(obj.add)"
   ]
  },
  {
   "cell_type": "code",
   "execution_count": 1,
   "id": "9410adef",
   "metadata": {},
   "outputs": [
    {
     "name": "stdout",
     "output_type": "stream",
     "text": [
      "Ram\n",
      "34\n",
      "Kathmandu\n"
     ]
    }
   ],
   "source": [
    "# Protected Attribute\n",
    "class Info:\n",
    "    def __init__(self,name,age,add):\n",
    "        self._name = name\n",
    "        self._age = age\n",
    "        self._add = add\n",
    "        \n",
    "obj = Info(\"Ram\",34,\"Kathmandu\")\n",
    "print(obj._name)\n",
    "print(obj._age)\n",
    "print(obj._add)"
   ]
  },
  {
   "cell_type": "code",
   "execution_count": 2,
   "id": "2b5de519",
   "metadata": {},
   "outputs": [
    {
     "ename": "AttributeError",
     "evalue": "'Info' object has no attribute '__name'",
     "output_type": "error",
     "traceback": [
      "\u001b[0;31m---------------------------------------------------------------------------\u001b[0m",
      "\u001b[0;31mAttributeError\u001b[0m                            Traceback (most recent call last)",
      "\u001b[0;32m/var/folders/1s/0yjclyps7svf7srgrn_bqx1c0000gn/T/ipykernel_1111/1237788298.py\u001b[0m in \u001b[0;36m<module>\u001b[0;34m\u001b[0m\n\u001b[1;32m      7\u001b[0m \u001b[0;34m\u001b[0m\u001b[0m\n\u001b[1;32m      8\u001b[0m \u001b[0mobj\u001b[0m \u001b[0;34m=\u001b[0m \u001b[0mInfo\u001b[0m\u001b[0;34m(\u001b[0m\u001b[0;34m\"Ram\"\u001b[0m\u001b[0;34m,\u001b[0m\u001b[0;36m34\u001b[0m\u001b[0;34m,\u001b[0m\u001b[0;34m\"Kathmandu\"\u001b[0m\u001b[0;34m)\u001b[0m\u001b[0;34m\u001b[0m\u001b[0;34m\u001b[0m\u001b[0m\n\u001b[0;32m----> 9\u001b[0;31m \u001b[0mprint\u001b[0m\u001b[0;34m(\u001b[0m\u001b[0mobj\u001b[0m\u001b[0;34m.\u001b[0m\u001b[0m__name\u001b[0m\u001b[0;34m)\u001b[0m\u001b[0;34m\u001b[0m\u001b[0;34m\u001b[0m\u001b[0m\n\u001b[0m\u001b[1;32m     10\u001b[0m \u001b[0mprint\u001b[0m\u001b[0;34m(\u001b[0m\u001b[0mobj\u001b[0m\u001b[0;34m.\u001b[0m\u001b[0m__age\u001b[0m\u001b[0;34m)\u001b[0m\u001b[0;34m\u001b[0m\u001b[0;34m\u001b[0m\u001b[0m\n\u001b[1;32m     11\u001b[0m \u001b[0mprint\u001b[0m\u001b[0;34m(\u001b[0m\u001b[0mobj\u001b[0m\u001b[0;34m.\u001b[0m\u001b[0m__add\u001b[0m\u001b[0;34m)\u001b[0m\u001b[0;34m\u001b[0m\u001b[0;34m\u001b[0m\u001b[0m\n",
      "\u001b[0;31mAttributeError\u001b[0m: 'Info' object has no attribute '__name'"
     ]
    }
   ],
   "source": [
    "# Private Attribute\n",
    "class Info:\n",
    "    def __init__(self,name,age,add):\n",
    "        self.__name = name\n",
    "        self.__age = age\n",
    "        self.__add = add\n",
    "        \n",
    "obj = Info(\"Ram\",34,\"Kathmandu\")\n",
    "print(obj.__name)\n",
    "print(obj.__age)\n",
    "print(obj.__add)"
   ]
  },
  {
   "cell_type": "code",
   "execution_count": 3,
   "id": "1cb02076",
   "metadata": {},
   "outputs": [
    {
     "name": "stdout",
     "output_type": "stream",
     "text": [
      "Ram\n",
      "34\n",
      "Kathmandu\n"
     ]
    }
   ],
   "source": [
    "# Private Attribute\n",
    "class Info:\n",
    "    def __init__(self,name,age,add):\n",
    "        self.__name = name\n",
    "        self.__age = age\n",
    "        self.__add = add\n",
    "        \n",
    "obj = Info(\"Ram\",34,\"Kathmandu\")\n",
    "print(obj._Info__name)\n",
    "print(obj._Info__age)\n",
    "print(obj._Info__add)"
   ]
  },
  {
   "cell_type": "code",
   "execution_count": 7,
   "id": "6608e52e",
   "metadata": {},
   "outputs": [
    {
     "name": "stdout",
     "output_type": "stream",
     "text": [
      "Enter name = Ram\n",
      "Enter age = 34\n",
      "Enter add = Kathmandu\n",
      "Ram\n",
      "Ram 34\n",
      "Hello I am Ram I am 34 I am from Kathmandu\n"
     ]
    }
   ],
   "source": [
    " class Info:\n",
    "        def __init__(self):\n",
    "            self.name = input(\"Enter name = \")\n",
    "            self._age = int(input(\"Enter age = \"))\n",
    "            self.__add = input(\"Enter add = \")\n",
    "            \n",
    "        def info(self):\n",
    "            print(f\"Hello I am {self.name} I am {self._age} I am from {self.__add}\")\n",
    "        \n",
    "            \n",
    "class Data(Info):\n",
    "\n",
    "    def data(self):\n",
    "        print(self.name,self._age)\n",
    "    \n",
    "obj = Data()\n",
    "print(obj.name)\n",
    "obj.data()\n",
    "obj.info()"
   ]
  },
  {
   "cell_type": "code",
   "execution_count": 8,
   "id": "e119b60f",
   "metadata": {},
   "outputs": [
    {
     "name": "stdout",
     "output_type": "stream",
     "text": [
      "Ram\n",
      "78\n",
      "Ram 78\n",
      "Hello I am Ram I am 78 I am from Kathmandy\n"
     ]
    }
   ],
   "source": [
    "class A:\n",
    "    def __init__(self,add):\n",
    "        self.__add = add\n",
    "    \n",
    "    def info(self):\n",
    "        print(f\"Hello I am {self.name} I am {self._age} I am from {self.__add}\")\n",
    "        \n",
    "class B(A):\n",
    "    def __init__(self,age,add):\n",
    "        self._age = age\n",
    "        A.__init__(self,add)\n",
    "        \n",
    "class C(B):\n",
    "    def __init__(self,name,age,add):\n",
    "        self.name = name\n",
    "        B.__init__(self,age,add)\n",
    "        \n",
    "    def data(self):\n",
    "        print(self.name,self._age)\n",
    "        \n",
    "obj = C(\"Ram\",78,\"Kathmandy\")\n",
    "print(obj.name)\n",
    "print(obj._age)\n",
    "obj.data()\n",
    "obj.info()"
   ]
  },
  {
   "cell_type": "code",
   "execution_count": 2,
   "id": "a3ce71ab",
   "metadata": {},
   "outputs": [
    {
     "name": "stdout",
     "output_type": "stream",
     "text": [
      "Ram\n",
      "78\n",
      "Ram 78\n",
      "Hello I am Ram I am 78 I am from Kathmandy\n"
     ]
    }
   ],
   "source": [
    "class A:\n",
    "    def __init__(self,add):\n",
    "        self.__add = add\n",
    "    \n",
    "    def info(self):\n",
    "        print(f\"Hello I am {self.name} I am {self._age} I am from {self.__add}\")\n",
    "        \n",
    "class B(A):\n",
    "    def __init__(self,age,add):\n",
    "        self._age = age\n",
    "        A.__init__(self,add)\n",
    "        \n",
    "class C(B):\n",
    "    def __init__(self,name,age,add):\n",
    "        self.name = name\n",
    "        B.__init__(self,age,add)\n",
    "        \n",
    "    def data(self):\n",
    "        print(self.name,self._age)\n",
    "        \n",
    "obj = C(\"Ram\",78,\"Kathmandy\")\n",
    "print(obj.name)\n",
    "print(obj._age)\n",
    "obj.data()\n",
    "obj.info() "
   ]
  },
  {
   "cell_type": "code",
   "execution_count": 10,
   "id": "9080bb25",
   "metadata": {},
   "outputs": [
    {
     "name": "stdout",
     "output_type": "stream",
     "text": [
      "Enter temp add = Kathmandu\n",
      "Ram\n",
      "78\n",
      "Ram 78 Kathmandy\n",
      "Hello I am Ram I am 78 I am from Kathmandu\n"
     ]
    }
   ],
   "source": [
    "class A:\n",
    "    def __init__(self,add):\n",
    "        self.per_add = add\n",
    "        self.__temp_add = input(\"Enter temp add = \")\n",
    "    \n",
    "    def info(self):\n",
    "        print(f\"Hello I am {self.name} I am {self.age} I am from {self.__temp_add}\")\n",
    "        \n",
    "class B:\n",
    "    def __init__(self,age,add):\n",
    "        self.age = age\n",
    "        \n",
    "class C(A,B):\n",
    "    def __init__(self,name,age,add):\n",
    "        self.name = name\n",
    "        B.__init__(self,age,add)\n",
    "        A.__init__(self,add)\n",
    "        \n",
    "    def data(self):\n",
    "        print(self.name,self.age,self.per_add)\n",
    "        \n",
    "obj = C(\"Ram\",78,\"Kathmandy\")\n",
    "print(obj.name)\n",
    "print(obj.age)\n",
    "obj.data()\n",
    "obj.info()"
   ]
  },
  {
   "cell_type": "code",
   "execution_count": 3,
   "id": "d849fbe6",
   "metadata": {
    "scrolled": true
   },
   "outputs": [
    {
     "name": "stdout",
     "output_type": "stream",
     "text": [
      "Enter temp add = Kathmandu\n",
      "Ram\n",
      "78\n",
      "Ram 78 Kathmandu Kathmandu\n",
      "Hello I am Ram I am 78 I am from Kathmandu\n"
     ]
    }
   ],
   "source": [
    "class A:\n",
    "    def __init__(self,add):\n",
    "        self.per_add = add\n",
    "        self.__temp_add = input(\"Enter temp add = \")\n",
    "    \n",
    "    def info(self):\n",
    "        print(f\"Hello I am {self.name} I am {self.age} I am from {self.__temp_add}\")\n",
    "        \n",
    "class B:\n",
    "    def __init__(self,age,add):\n",
    "        self.age = age\n",
    "        \n",
    "class C(A,B):\n",
    "    def __init__(self,name,age,add):\n",
    "        self.name = name\n",
    "        B.__init__(self,age,add)\n",
    "        A.__init__(self,add)\n",
    "        \n",
    "    def data(self):\n",
    "        print(self.name,self.age,self.per_add,self._A__temp_add)\n",
    "        \n",
    "obj = C(\"Ram\",78,\"Kathmandu\")\n",
    "print(obj.name)\n",
    "print(obj.age)\n",
    "obj.data()\n",
    "obj.info()"
   ]
  },
  {
   "cell_type": "code",
   "execution_count": null,
   "id": "1c98d10c",
   "metadata": {},
   "outputs": [],
   "source": [
    "class Parrot:\n",
    "    def fly(self):\n",
    "        print(\"Parrot can fly\")\n",
    "    def swim(self):\n",
    "        print(\"Parrot can't swim\")\n",
    "        \n",
    "class Penguin:\n",
    "    def fly(self):\n",
    "        print(\"Penguin can't fly)\n",
    "    def swim(self):\n",
    "              print(\"Penguin can swim\")\n",
    "              \n",
    "# common interface\n",
    "  def flying_test(bird):\n",
    "              bird.fly()\n",
    "              \n",
    "# instantiate objects\n",
    "blu = Parrot()\n",
    "peggy = Penguin()\n",
    "# passing the object\n",
    "flying_test(blu)\n",
    "flying_test(peggy)\n",
    "              "
   ]
  }
 ],
 "metadata": {
  "kernelspec": {
   "display_name": "Python 3 (ipykernel)",
   "language": "python",
   "name": "python3"
  },
  "language_info": {
   "codemirror_mode": {
    "name": "ipython",
    "version": 3
   },
   "file_extension": ".py",
   "mimetype": "text/x-python",
   "name": "python",
   "nbconvert_exporter": "python",
   "pygments_lexer": "ipython3",
   "version": "3.9.7"
  }
 },
 "nbformat": 4,
 "nbformat_minor": 5
}

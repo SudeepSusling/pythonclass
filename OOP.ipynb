{
 "cells": [
  {
   "cell_type": "code",
   "execution_count": 5,
   "id": "dfb795c2",
   "metadata": {},
   "outputs": [],
   "source": [
    "class Hello:\n",
    "    pass\n",
    "\n",
    "obj = Hello()"
   ]
  },
  {
   "cell_type": "code",
   "execution_count": 6,
   "id": "a0fe3bcd",
   "metadata": {},
   "outputs": [
    {
     "name": "stdout",
     "output_type": "stream",
     "text": [
      "Hello World\n"
     ]
    }
   ],
   "source": [
    "class Hello:\n",
    "    print(\"Hello World\")\n",
    "\n",
    "obj = Hello()"
   ]
  },
  {
   "cell_type": "code",
   "execution_count": 7,
   "id": "f4113062",
   "metadata": {},
   "outputs": [
    {
     "name": "stdout",
     "output_type": "stream",
     "text": [
      "Hello World\n"
     ]
    }
   ],
   "source": [
    "class Hello:                   #class\n",
    "    def hello(self):               #method\n",
    "        print(\"Hello World\")\n",
    "\n",
    "obj = Hello()                  #object\n",
    "obj.hello()"
   ]
  },
  {
   "cell_type": "code",
   "execution_count": 8,
   "id": "c6245d8b",
   "metadata": {},
   "outputs": [
    {
     "name": "stdout",
     "output_type": "stream",
     "text": [
      "Hello World\n"
     ]
    }
   ],
   "source": [
    "class Hello:\n",
    "    @staticmethod\n",
    "    def hello():\n",
    "        print(\"Hello World\")\n",
    "        \n",
    "obj = Hello()\n",
    "obj.hello()"
   ]
  },
  {
   "cell_type": "code",
   "execution_count": 10,
   "id": "450dd06a",
   "metadata": {},
   "outputs": [
    {
     "name": "stdout",
     "output_type": "stream",
     "text": [
      "Enter l = 10\n",
      "Enter b = 2\n",
      "20\n"
     ]
    }
   ],
   "source": [
    "class Cal:\n",
    "    def area(self):\n",
    "        l = int(input(\"Enter l = \"))\n",
    "        b = int(input(\"Enter b = \"))\n",
    "        a = l*b\n",
    "        return a\n",
    "    \n",
    "obj = Cal()\n",
    "print(obj.area())"
   ]
  },
  {
   "cell_type": "code",
   "execution_count": 11,
   "id": "49c9b7e0",
   "metadata": {},
   "outputs": [
    {
     "name": "stdout",
     "output_type": "stream",
     "text": [
      "Enter l = 10\n",
      "Enter b = 2\n",
      "20\n"
     ]
    }
   ],
   "source": [
    "class Cal:\n",
    "    def area(self,l,b):\n",
    "        a = l*b\n",
    "        return a\n",
    "\n",
    "l = int(input(\"Enter l = \"))\n",
    "b = int(input(\"Enter b = \"))\n",
    "    \n",
    "obj = Cal()\n",
    "print(obj.area(l,b))"
   ]
  },
  {
   "cell_type": "code",
   "execution_count": 23,
   "id": "3d10c08b",
   "metadata": {},
   "outputs": [
    {
     "name": "stdout",
     "output_type": "stream",
     "text": [
      "Enter l = 10\n",
      "Enter b = 2\n",
      "Enter h = 2\n",
      "20\n",
      "40\n"
     ]
    }
   ],
   "source": [
    "class Cal:\n",
    "    def area(self,x,y):\n",
    "        a = x*y\n",
    "        return a\n",
    "    def volume(self,x,y,z):\n",
    "        v = x*y*z\n",
    "        return v\n",
    "\n",
    "l = int(input(\"Enter l = \"))\n",
    "b = int(input(\"Enter b = \"))\n",
    "h = int(input(\"Enter h = \"))\n",
    "    \n",
    "obj = Cal()\n",
    "print(obj.area(l,b))\n",
    "print(obj.volume(l,b,h))"
   ]
  },
  {
   "cell_type": "code",
   "execution_count": 22,
   "id": "da63568d",
   "metadata": {},
   "outputs": [
    {
     "name": "stdout",
     "output_type": "stream",
     "text": [
      "Enter l = 10\n",
      "Enter b = 2\n",
      "Enter h = 2\n",
      "20\n",
      "40\n"
     ]
    }
   ],
   "source": [
    "class Area:\n",
    "    def area(self,x,y):\n",
    "        a = x*y\n",
    "        return a\n",
    "class Volume:\n",
    "    def volume(self,x,y,z):\n",
    "        v = x*y*z\n",
    "        return v\n",
    "\n",
    "l = int(input(\"Enter l = \"))\n",
    "b = int(input(\"Enter b = \"))\n",
    "h = int(input(\"Enter h = \"))\n",
    "    \n",
    "obj1 = Area()\n",
    "obj2 = Volume()\n",
    "print(obj1.area(l,b))\n",
    "print(obj2.volume(l,b,h))"
   ]
  },
  {
   "cell_type": "code",
   "execution_count": 24,
   "id": "2b46bc0c",
   "metadata": {},
   "outputs": [
    {
     "name": "stdout",
     "output_type": "stream",
     "text": [
      "Enter l = 10\n",
      "Enter b = 2\n",
      "Enter h = 2\n",
      "The area is =  20\n",
      "The volume is =  40\n"
     ]
    }
   ],
   "source": [
    "class Area:\n",
    "    def area(self,x,y):\n",
    "        a = x*y\n",
    "        return a\n",
    "class Volume:\n",
    "    def volume(self,x,y,z):\n",
    "        v = x*y*z\n",
    "        return v\n",
    "\n",
    "l = int(input(\"Enter l = \"))\n",
    "b = int(input(\"Enter b = \"))\n",
    "h = int(input(\"Enter h = \"))\n",
    "    \n",
    "obj1 = Area()\n",
    "obj2 = Volume()\n",
    "print(\"The area is = \",obj1.area(l,b))\n",
    "print(\"The volume is = \",obj2.volume(l,b,h))"
   ]
  },
  {
   "cell_type": "code",
   "execution_count": 30,
   "id": "5c3e3e6b",
   "metadata": {},
   "outputs": [
    {
     "name": "stdout",
     "output_type": "stream",
     "text": [
      "Enter l = 100\n",
      "Enter b = 2\n",
      "200\n"
     ]
    }
   ],
   "source": [
    "class Cal:\n",
    "    def __init__(self,l,b):\n",
    "        self.l = l\n",
    "        self.b = b\n",
    "        \n",
    "        \n",
    "    def area(self):\n",
    "        a = self.l*self.b\n",
    "        return a\n",
    "\n",
    "l = int(input(\"Enter l = \"))\n",
    "b = int(input(\"Enter b = \"))\n",
    "    \n",
    "obj = Cal(l,b)\n",
    "print(obj.area())"
   ]
  },
  {
   "cell_type": "code",
   "execution_count": 31,
   "id": "56c26c97",
   "metadata": {},
   "outputs": [
    {
     "name": "stdout",
     "output_type": "stream",
     "text": [
      "Enter l = 100\n",
      "Enter b = 2\n",
      "Enter h = 2\n",
      "400\n"
     ]
    }
   ],
   "source": [
    "class Cal:\n",
    "    def __init__(self,l,b):\n",
    "        self.l = l\n",
    "        self.b = b\n",
    "    \n",
    "    def volume(self,h):\n",
    "        v = self.l*self.b*h\n",
    "        return v\n",
    "    \n",
    "l = int(input(\"Enter l = \"))\n",
    "b = int(input(\"Enter b = \"))\n",
    "h = int(input(\"Enter h = \"))\n",
    "\n",
    "obj = Cal(l,b)\n",
    "print(obj.volume(h))"
   ]
  },
  {
   "cell_type": "code",
   "execution_count": 2,
   "id": "aa72009a",
   "metadata": {},
   "outputs": [
    {
     "name": "stdout",
     "output_type": "stream",
     "text": [
      "Enter l = 10\n",
      "Enter b = 2\n",
      "Enter h = 3\n",
      "Enter r = 10\n",
      "60\n",
      "314.0\n"
     ]
    }
   ],
   "source": [
    "class Cal:\n",
    "    def __init__(self,l,b,h):\n",
    "        self.l = l\n",
    "        self.b = b\n",
    "    \n",
    "    def volume(self):\n",
    "        v = self.l*self.b*h\n",
    "        return v\n",
    "    @staticmethod\n",
    "    def area():\n",
    "        r = int(input(\"Enter r = \"))\n",
    "        a = 3.14*(r**2)\n",
    "        return a\n",
    "    \n",
    "l = int(input(\"Enter l = \"))\n",
    "b = int(input(\"Enter b = \"))\n",
    "h = int(input(\"Enter h = \"))\n",
    "\n",
    "obj = Cal(l,b,h)\n",
    "v = obj.volume()\n",
    "a = obj.area()\n",
    "print(v)\n",
    "print(a)"
   ]
  },
  {
   "cell_type": "code",
   "execution_count": 10,
   "id": "133fa74c",
   "metadata": {},
   "outputs": [
    {
     "name": "stdout",
     "output_type": "stream",
     "text": [
      "Enter l = 10\n",
      "Enter b = 2\n",
      "Enter h = 2\n",
      "40\n",
      "20\n"
     ]
    }
   ],
   "source": [
    "class volume:\n",
    "    def __init__(self,l,b,h):\n",
    "        self.l = l\n",
    "        self.b = b\n",
    "        self.h = h\n",
    "        \n",
    "    def volume(self):\n",
    "        v = self.l*self.b*self.h\n",
    "        return v\n",
    "    \n",
    "    \n",
    "class Area:\n",
    "    def __init__(self,l,b):\n",
    "        self.l = l\n",
    "        self.b = b\n",
    "    \n",
    "    def Area(self):\n",
    "        a = self.l*self.b\n",
    "        return a\n",
    "l = int(input(\"Enter l = \"))\n",
    "b = int(input(\"Enter b = \"))\n",
    "h = int(input(\"Enter h = \"))\n",
    "\n",
    "obj1 = volume(l,b,h)\n",
    "obj2 = Area(l,b)\n",
    "v = obj1.volume()\n",
    "a = obj2.Area()\n",
    "print(v)\n",
    "print(a)"
   ]
  },
  {
   "cell_type": "code",
   "execution_count": 11,
   "id": "b176ceb1",
   "metadata": {},
   "outputs": [
    {
     "name": "stdout",
     "output_type": "stream",
     "text": [
      "Ram\n",
      "<class '__main__.information'>\n"
     ]
    }
   ],
   "source": [
    "class information:\n",
    "    def __init__(self,name,age,add):\n",
    "        self.name = name\n",
    "        self.add = add\n",
    "        self.age = age\n",
    "        \n",
    "    def __str__(self):\n",
    "        return self.name\n",
    "    \n",
    "obj = information(\"Ram\",23,\"Kathmandu\")\n",
    "print(obj)\n",
    "print(type(obj))"
   ]
  },
  {
   "cell_type": "code",
   "execution_count": 12,
   "id": "78aedda1",
   "metadata": {},
   "outputs": [
    {
     "name": "stdout",
     "output_type": "stream",
     "text": [
      "Ram\n",
      "Ram\n",
      "RamShyam\n"
     ]
    }
   ],
   "source": [
    "class information:\n",
    "    def __init__(self,name,age,add):\n",
    "        self.name = name\n",
    "        self.add = add\n",
    "        self.age = age\n",
    "        \n",
    "    def __str__(self):\n",
    "        return self.name\n",
    "    \n",
    "obj = information(\"Ram\",23,\"Kathmandu\")\n",
    "print(obj)\n",
    "print(obj.__str__())\n",
    "print(str(obj)+\"Shyam\")"
   ]
  },
  {
   "cell_type": "code",
   "execution_count": 25,
   "id": "6ed6ceb7",
   "metadata": {},
   "outputs": [
    {
     "name": "stdout",
     "output_type": "stream",
     "text": [
      "Ram\n",
      "RamShyam\n"
     ]
    }
   ],
   "source": [
    "class information:\n",
    "    def __init__(self,name,age,add):\n",
    "        self.name = name\n",
    "        self.add = add\n",
    "        self.age = age\n",
    "        \n",
    "    def __str__(self):\n",
    "        return self.name\n",
    "    \n",
    "obj = information(\"Ram\",23,\"Kathmandu\")\n",
    "print(obj)\n",
    "print(str(obj)+\"Shyam\")"
   ]
  },
  {
   "cell_type": "code",
   "execution_count": 23,
   "id": "485985f4",
   "metadata": {},
   "outputs": [
    {
     "name": "stdout",
     "output_type": "stream",
     "text": [
      "{'name': 'Ram', 'age': 23, 'add': 'Kathmandu'}\n"
     ]
    }
   ],
   "source": [
    "class information:\n",
    "    def __init__(self,name,age,add):\n",
    "        self.name = name\n",
    "        self.add = add\n",
    "        self.age = age\n",
    "        \n",
    "    def __repr__(self):\n",
    "        return {'name':self.name,'age':self.age,'add':self.add}\n",
    "    \n",
    "obj = information(\"Ram\",23,\"Kathmandu\")\n",
    "print(obj.__repr__())"
   ]
  },
  {
   "cell_type": "code",
   "execution_count": 29,
   "id": "d3a5bb97",
   "metadata": {},
   "outputs": [
    {
     "name": "stdout",
     "output_type": "stream",
     "text": [
      "1000\n",
      "2000\n"
     ]
    }
   ],
   "source": [
    "class Price:\n",
    "    def __init__(self,x):\n",
    "        self.x = x\n",
    "    \n",
    "obj = Price(1000)\n",
    "obj1 = Price(2000)\n",
    "print(obj.x)\n",
    "print(obj1.x)"
   ]
  },
  {
   "cell_type": "code",
   "execution_count": null,
   "id": "06ed0985",
   "metadata": {},
   "outputs": [],
   "source": [
    "class Price:\n",
    "    def __init__(self,x):\n",
    "        self.x = x\n",
    "    \n",
    "obj = Price(1000)\n",
    "obj1 = Price(2000)\n",
    "print(obj.x)\n",
    "print(obj1.x)"
   ]
  },
  {
   "cell_type": "code",
   "execution_count": 31,
   "id": "9fe49865",
   "metadata": {},
   "outputs": [
    {
     "name": "stdout",
     "output_type": "stream",
     "text": [
      "1 5\n"
     ]
    }
   ],
   "source": [
    "class point:\n",
    "    def __init__(self, x = 0, y = 0):\n",
    "        self.x = x\n",
    "        self.y = y\n",
    "        \n",
    "    def __str__(self):\n",
    "        return f\"{self.x} {self.y}\"\n",
    "    \n",
    "    def __add__(self,other):\n",
    "        x = self.x + other.x\n",
    "        y = self.y +other.y\n",
    "        return point(x,y)\n",
    "    \n",
    "p1 = point(2,3)\n",
    "p2 = point(-1,2)\n",
    "print(p1+p2)"
   ]
  },
  {
   "cell_type": "code",
   "execution_count": 32,
   "id": "0ecfab77",
   "metadata": {},
   "outputs": [
    {
     "name": "stdout",
     "output_type": "stream",
     "text": [
      "This is init method 2 3\n",
      "This is init method -1 2\n",
      "I am in add function 1 5\n",
      "This is init method 1 5\n",
      "1 5\n"
     ]
    }
   ],
   "source": [
    "class point:\n",
    "    def __init__(self, x = 0, y = 0):\n",
    "        self.x = x\n",
    "        self.y = y\n",
    "        print(\"This is init method\",self.x,self.y)\n",
    "        \n",
    "    def __str__(self):\n",
    "        return f\"{self.x} {self.y}\"\n",
    "    \n",
    "    def __add__(self,other):\n",
    "        x = self.x + other.x\n",
    "        y = self.y +other.y\n",
    "        print(\"I am in add function\",x,y)\n",
    "        return point(x,y)\n",
    "    \n",
    "p1 = point(2,3)\n",
    "p2 = point(-1,2)\n",
    "print(p1+p2)"
   ]
  },
  {
   "cell_type": "code",
   "execution_count": 34,
   "id": "b8424e19",
   "metadata": {},
   "outputs": [
    {
     "name": "stdout",
     "output_type": "stream",
     "text": [
      "This is init method 2000\n",
      "This is init method 1000\n",
      "This is init method 2500\n",
      "I am in add function 3000\n",
      "This is init method 3000\n",
      "I am in add function 5500\n",
      "This is init method 5500\n",
      "5500\n"
     ]
    }
   ],
   "source": [
    "class point:\n",
    "    def __init__(self, x = 0):\n",
    "        self.x = x\n",
    "        print(\"This is init method\",self.x)\n",
    "        \n",
    "    def __str__(self):\n",
    "        return f\"{self.x}\"\n",
    "    \n",
    "    def __add__(self,other):\n",
    "        x = self.x + other.x\n",
    "        print(\"I am in add function\",x)\n",
    "        return point(x)\n",
    "    \n",
    "p1 = point(2000)\n",
    "p2 = point(1000)\n",
    "p3 = point(2500)\n",
    "print(p1+p2+p3)"
   ]
  },
  {
   "cell_type": "code",
   "execution_count": null,
   "id": "fa5017f6",
   "metadata": {},
   "outputs": [],
   "source": []
  }
 ],
 "metadata": {
  "kernelspec": {
   "display_name": "Python 3 (ipykernel)",
   "language": "python",
   "name": "python3"
  },
  "language_info": {
   "codemirror_mode": {
    "name": "ipython",
    "version": 3
   },
   "file_extension": ".py",
   "mimetype": "text/x-python",
   "name": "python",
   "nbconvert_exporter": "python",
   "pygments_lexer": "ipython3",
   "version": "3.9.7"
  }
 },
 "nbformat": 4,
 "nbformat_minor": 5
}

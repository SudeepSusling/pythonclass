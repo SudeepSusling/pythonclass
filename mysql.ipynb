{
 "cells": [
  {
   "cell_type": "code",
   "execution_count": 1,
   "id": "a80e4834",
   "metadata": {},
   "outputs": [],
   "source": [
    "import mysql.connector as my    #importing database\n",
    "database = my.connect(\n",
    "    host = \"localhost\",\n",
    "    user = \"root\",\n",
    "    password = \"\"\n",
    ")\n",
    "db = database.cursor()\n",
    "db.execute(\"CREATE DATABASE python_class\")"
   ]
  },
  {
   "cell_type": "code",
   "execution_count": 2,
   "id": "3ad6d1d4",
   "metadata": {},
   "outputs": [],
   "source": [
    "import mysql.connector as my\n",
    "database = my.connect(\n",
    "    host = \"localhost\",\n",
    "    user = \"root\",\n",
    "    password = \"\",\n",
    "    database = 'Class2pm'\n",
    ")\n",
    "db = database.cursor()"
   ]
  },
  {
   "cell_type": "code",
   "execution_count": 3,
   "id": "30db762f",
   "metadata": {},
   "outputs": [
    {
     "name": "stdout",
     "output_type": "stream",
     "text": [
      "(1, 'Ram', 87, 80, 95, 92, 82, 436, 87)\n",
      "(2, 'Hari', 87, 85, 97, 95, 85, 449, 90)\n",
      "(3, 'Shyam', 88, 88, 92, 95, 85, 448, 90)\n",
      "(4, 'Nabin', 89, 95, 67, 87, 65, 403, 81)\n"
     ]
    }
   ],
   "source": [
    "sql = \"SELECT * FROM Profile\"\n",
    "db.execute(sql)\n",
    "result = db.fetchall()\n",
    "for x in result:\n",
    "    print(x)"
   ]
  },
  {
   "cell_type": "code",
   "execution_count": 4,
   "id": "6b646a63",
   "metadata": {},
   "outputs": [
    {
     "name": "stdout",
     "output_type": "stream",
     "text": [
      "(1, 'Ram')\n",
      "(2, 'Hari')\n",
      "(3, 'Shyam')\n",
      "(4, 'Nabin')\n"
     ]
    }
   ],
   "source": [
    "sql = \"SELECT sn,name FROM Profile\"\n",
    "db.execute(sql)\n",
    "result = db.fetchall()\n",
    "for x in result:\n",
    "    print(x)"
   ]
  },
  {
   "cell_type": "code",
   "execution_count": 5,
   "id": "6a210788",
   "metadata": {},
   "outputs": [],
   "source": [
    "sql = \"INSERT INTO Profile (name,physics,chemistry,math,english,nepali,total,per) VALUES('Nabin',89,95,67,87,65,403,80.6)\"\n",
    "db.execute(sql)\n",
    "database.commit()"
   ]
  },
  {
   "cell_type": "code",
   "execution_count": 6,
   "id": "b6686f66",
   "metadata": {},
   "outputs": [
    {
     "name": "stdout",
     "output_type": "stream",
     "text": [
      "Enter n = 1\n",
      "Enter name = Smaran\n",
      "Enter physics = 96\n",
      "Enter chemistry = 88\n",
      "Enter math = 95\n",
      "Enter english = 92\n",
      "Enter nepali = 85\n",
      "INSERT INTO Profile (name,physics,chemistry,math,english,nepali,total,per) VALUES ('Smaran',96,88,95,92,85,456,91.2)\n"
     ]
    }
   ],
   "source": [
    "n = int(input(\"Enter n = \"))\n",
    "for i in range(n):\n",
    "    name = input(\"Enter name = \")\n",
    "    physics = int(input(\"Enter physics = \"))\n",
    "    chemistry = int(input(\"Enter chemistry = \"))\n",
    "    math = int(input(\"Enter math = \"))\n",
    "    english = int(input(\"Enter english = \"))\n",
    "    nepali = int(input(\"Enter nepali = \"))\n",
    "    total = sum([physics,chemistry,math,english,nepali])\n",
    "    per = total/5\n",
    "    sql = f'''INSERT INTO Profile (name,physics,chemistry,math,english,nepali,total,per) VALUES ('{name}',{physics},{chemistry},{math},{english},{nepali},{total},{per})'''\n",
    "    print(sql)\n",
    "    \n",
    "    db.execute(sql)\n",
    "    \n",
    "    database.commit()"
   ]
  },
  {
   "cell_type": "code",
   "execution_count": 7,
   "id": "f2a59455",
   "metadata": {},
   "outputs": [],
   "source": [
    "sql = \"DELETE FROM Profile WHERE sn = 4\"\n",
    "db.execute(sql)\n",
    "database.commit()"
   ]
  },
  {
   "cell_type": "code",
   "execution_count": 8,
   "id": "7ff7539b",
   "metadata": {},
   "outputs": [],
   "source": [
    "sql = \"UPDATE Profile SET name = 'Harry' WHERE name = 'Hari'\"\n",
    "db.execute(sql)\n",
    "database.commit()"
   ]
  },
  {
   "cell_type": "code",
   "execution_count": null,
   "id": "32485017",
   "metadata": {},
   "outputs": [],
   "source": []
  }
 ],
 "metadata": {
  "kernelspec": {
   "display_name": "Python 3 (ipykernel)",
   "language": "python",
   "name": "python3"
  },
  "language_info": {
   "codemirror_mode": {
    "name": "ipython",
    "version": 3
   },
   "file_extension": ".py",
   "mimetype": "text/x-python",
   "name": "python",
   "nbconvert_exporter": "python",
   "pygments_lexer": "ipython3",
   "version": "3.9.7"
  }
 },
 "nbformat": 4,
 "nbformat_minor": 5
}

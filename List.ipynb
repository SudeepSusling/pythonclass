{
 "cells": [
  {
   "cell_type": "code",
   "execution_count": 1,
   "id": "e9ce4382",
   "metadata": {},
   "outputs": [],
   "source": [
    "## Python collection\n",
    "# List\n",
    "# Tuple\n",
    "# Dictionary\n",
    "# Set"
   ]
  },
  {
   "cell_type": "code",
   "execution_count": 2,
   "id": "b21fb5eb",
   "metadata": {},
   "outputs": [],
   "source": [
    "## List\n",
    "# -Indexed\n",
    "# -Ordered\n",
    "# -Mutable\n",
    "# -Duplicate Values\n",
    "# -Multiple Values"
   ]
  },
  {
   "cell_type": "code",
   "execution_count": 3,
   "id": "540d8d8e",
   "metadata": {},
   "outputs": [
    {
     "name": "stdout",
     "output_type": "stream",
     "text": [
      "<class 'list'>\n"
     ]
    }
   ],
   "source": [
    "l = list()\n",
    "lis = []\n",
    "print(type(l))"
   ]
  },
  {
   "cell_type": "code",
   "execution_count": 4,
   "id": "b1b2f8aa",
   "metadata": {},
   "outputs": [
    {
     "data": {
      "text/plain": [
       "list"
      ]
     },
     "execution_count": 4,
     "metadata": {},
     "output_type": "execute_result"
    }
   ],
   "source": [
    "data = [1,2,3,4,5,6,7,8,9,10]\n",
    "type(data)"
   ]
  },
  {
   "cell_type": "code",
   "execution_count": 5,
   "id": "865aecd2",
   "metadata": {},
   "outputs": [
    {
     "name": "stdout",
     "output_type": "stream",
     "text": [
      "['Apple', 'Ball', 'Cat']\n"
     ]
    }
   ],
   "source": [
    "data = [\"Apple\",\"Ball\",\"Cat\"]\n",
    "print(data)"
   ]
  },
  {
   "cell_type": "code",
   "execution_count": 6,
   "id": "0bcee5fe",
   "metadata": {},
   "outputs": [
    {
     "name": "stdout",
     "output_type": "stream",
     "text": [
      "['Apple', 'Ball', 'Cat', 'Apple']\n"
     ]
    }
   ],
   "source": [
    "data = [\"Apple\",\"Ball\",\"Cat\",\"Apple\"]\n",
    "print(data)"
   ]
  },
  {
   "cell_type": "code",
   "execution_count": null,
   "id": "59c380de",
   "metadata": {},
   "outputs": [],
   "source": [
    "x,y,z = [\"Apple\",\"Ball\",\"Cat\"]\n"
   ]
  },
  {
   "cell_type": "code",
   "execution_count": 7,
   "id": "485b80a3",
   "metadata": {},
   "outputs": [
    {
     "data": {
      "text/plain": [
       "'Apple'"
      ]
     },
     "execution_count": 7,
     "metadata": {},
     "output_type": "execute_result"
    }
   ],
   "source": [
    "data = [\"Apple\",\"Ball\",\"Cat\"]\n",
    "data[0]"
   ]
  },
  {
   "cell_type": "code",
   "execution_count": 8,
   "id": "fb5fe345",
   "metadata": {},
   "outputs": [
    {
     "data": {
      "text/plain": [
       "'Ball'"
      ]
     },
     "execution_count": 8,
     "metadata": {},
     "output_type": "execute_result"
    }
   ],
   "source": [
    "data = [\"Apple\",\"Ball\",\"Cat\"]\n",
    "data[1]"
   ]
  },
  {
   "cell_type": "code",
   "execution_count": 9,
   "id": "bf16e54c",
   "metadata": {},
   "outputs": [
    {
     "data": {
      "text/plain": [
       "'Cat'"
      ]
     },
     "execution_count": 9,
     "metadata": {},
     "output_type": "execute_result"
    }
   ],
   "source": [
    "data = [\"Apple\",\"Ball\",\"Cat\"]\n",
    "data[-1]"
   ]
  },
  {
   "cell_type": "code",
   "execution_count": 10,
   "id": "7a7b80e5",
   "metadata": {},
   "outputs": [
    {
     "data": {
      "text/plain": [
       "'Ball'"
      ]
     },
     "execution_count": 10,
     "metadata": {},
     "output_type": "execute_result"
    }
   ],
   "source": [
    "data = [\"Apple\",\"Ball\",\"Cat\"]\n",
    "data[-2]"
   ]
  },
  {
   "cell_type": "code",
   "execution_count": 1,
   "id": "2797e1c9",
   "metadata": {},
   "outputs": [
    {
     "name": "stdout",
     "output_type": "stream",
     "text": [
      "['Apple', 'Ball', 'Cat', 'Apple', 'Dog']\n"
     ]
    }
   ],
   "source": [
    "data = [\"Apple\",\"Ball\",\"Cat\",\"Apple\"]\n",
    "data1 = [\"Dog\"]\n",
    "print(data+data1)"
   ]
  },
  {
   "cell_type": "code",
   "execution_count": 2,
   "id": "7280b87e",
   "metadata": {},
   "outputs": [
    {
     "name": "stdout",
     "output_type": "stream",
     "text": [
      "['Dog', 'Apple', 'Ball', 'Cat', 'Apple']\n"
     ]
    }
   ],
   "source": [
    "data = [\"Apple\",\"Ball\",\"Cat\",\"Apple\"]\n",
    "data1 = [\"Dog\"]\n",
    "print(data1+data)"
   ]
  },
  {
   "cell_type": "code",
   "execution_count": 3,
   "id": "b00e9753",
   "metadata": {},
   "outputs": [
    {
     "name": "stdout",
     "output_type": "stream",
     "text": [
      "[1, 2, 3, 4, 1, 2, 3, 4]\n"
     ]
    }
   ],
   "source": [
    "a = [1,2,3,4]\n",
    "print(a*2)"
   ]
  },
  {
   "cell_type": "code",
   "execution_count": 4,
   "id": "aa5fb59b",
   "metadata": {},
   "outputs": [
    {
     "ename": "TypeError",
     "evalue": "can only concatenate list (not \"str\") to list",
     "output_type": "error",
     "traceback": [
      "\u001b[0;31m---------------------------------------------------------------------------\u001b[0m",
      "\u001b[0;31mTypeError\u001b[0m                                 Traceback (most recent call last)",
      "\u001b[0;32m/var/folders/1s/0yjclyps7svf7srgrn_bqx1c0000gn/T/ipykernel_1191/1068505138.py\u001b[0m in \u001b[0;36m<module>\u001b[0;34m\u001b[0m\n\u001b[1;32m      1\u001b[0m \u001b[0mdata\u001b[0m \u001b[0;34m=\u001b[0m \u001b[0;34m[\u001b[0m\u001b[0;34m\"Apple\"\u001b[0m\u001b[0;34m,\u001b[0m\u001b[0;34m\"Ball\"\u001b[0m\u001b[0;34m,\u001b[0m\u001b[0;34m\"Cat\"\u001b[0m\u001b[0;34m,\u001b[0m\u001b[0;34m\"Apple\"\u001b[0m\u001b[0;34m]\u001b[0m\u001b[0;34m\u001b[0m\u001b[0;34m\u001b[0m\u001b[0m\n\u001b[1;32m      2\u001b[0m \u001b[0mdata1\u001b[0m \u001b[0;34m=\u001b[0m \u001b[0;34m\"Dog\"\u001b[0m\u001b[0;34m\u001b[0m\u001b[0;34m\u001b[0m\u001b[0m\n\u001b[0;32m----> 3\u001b[0;31m \u001b[0mdata\u001b[0m\u001b[0;34m+\u001b[0m\u001b[0mdata1\u001b[0m\u001b[0;34m\u001b[0m\u001b[0;34m\u001b[0m\u001b[0m\n\u001b[0m",
      "\u001b[0;31mTypeError\u001b[0m: can only concatenate list (not \"str\") to list"
     ]
    }
   ],
   "source": [
    "data = [\"Apple\",\"Ball\",\"Cat\",\"Apple\"]\n",
    "data1 = \"Dog\"\n",
    "data+data1"
   ]
  },
  {
   "cell_type": "code",
   "execution_count": 5,
   "id": "146dd9e8",
   "metadata": {},
   "outputs": [
    {
     "data": {
      "text/plain": [
       "['apple', 'Ball', 'Cat', 'Apple']"
      ]
     },
     "execution_count": 5,
     "metadata": {},
     "output_type": "execute_result"
    }
   ],
   "source": [
    "data = [\"Apple\",\"Ball\",\"Cat\",\"Apple\"]\n",
    "data[0] = 'apple'\n",
    "data"
   ]
  },
  {
   "cell_type": "code",
   "execution_count": 7,
   "id": "0eef5e77",
   "metadata": {},
   "outputs": [
    {
     "data": {
      "text/plain": [
       "['Apple', 'Ball', 'ball', 'Apple']"
      ]
     },
     "execution_count": 7,
     "metadata": {},
     "output_type": "execute_result"
    }
   ],
   "source": [
    "data = [\"Apple\",\"Ball\",\"Cat\",\"Apple\"]\n",
    "data[2] = 'ball'\n",
    "data"
   ]
  },
  {
   "cell_type": "code",
   "execution_count": 8,
   "id": "8b3f5963",
   "metadata": {},
   "outputs": [
    {
     "data": {
      "text/plain": [
       "[1, 2, 3, 4, 5]"
      ]
     },
     "execution_count": 8,
     "metadata": {},
     "output_type": "execute_result"
    }
   ],
   "source": [
    "data = [1,2,3,4,5,6,7,8,9]\n",
    "data[0:5]"
   ]
  },
  {
   "cell_type": "code",
   "execution_count": 9,
   "id": "92e32105",
   "metadata": {},
   "outputs": [
    {
     "data": {
      "text/plain": [
       "[1, 3, 5, 7]"
      ]
     },
     "execution_count": 9,
     "metadata": {},
     "output_type": "execute_result"
    }
   ],
   "source": [
    "data = [1,2,3,4,5,6,7,8,9]\n",
    "data[0:8:2]"
   ]
  },
  {
   "cell_type": "code",
   "execution_count": 10,
   "id": "f9490d95",
   "metadata": {},
   "outputs": [
    {
     "name": "stdout",
     "output_type": "stream",
     "text": [
      "Enter n = 5\n",
      "Enter x = Apple\n",
      "Enter x = Ball\n",
      "Enter x = Cat\n",
      "Enter x = Dof\n",
      "Enter x = Fish\n",
      "['Apple', 'Ball', 'Cat', 'Dof', 'Fish']\n"
     ]
    }
   ],
   "source": [
    "data = list()\n",
    "n = int(input(\"Enter n = \"))\n",
    "for i in range(n):\n",
    "    x = input(\"Enter x = \")\n",
    "    data = data+[x]\n",
    "    \n",
    "print(data)"
   ]
  },
  {
   "cell_type": "code",
   "execution_count": 11,
   "id": "fc53faa5",
   "metadata": {},
   "outputs": [
    {
     "name": "stdout",
     "output_type": "stream",
     "text": [
      "Apple\n",
      "Ball\n",
      "Cat\n",
      "Dof\n",
      "Fish\n"
     ]
    }
   ],
   "source": [
    "data = ['Apple', 'Ball', 'Cat', 'Dof', 'Fish']\n",
    "for i in data:\n",
    "    print(i)"
   ]
  },
  {
   "cell_type": "code",
   "execution_count": 12,
   "id": "94db69eb",
   "metadata": {},
   "outputs": [
    {
     "name": "stdout",
     "output_type": "stream",
     "text": [
      "Ball\n",
      "Cat\n",
      "Dog\n",
      "Fish\n"
     ]
    }
   ],
   "source": [
    "data = ['Apple', 'Ball', 'Cat', 'Dog', 'Fish','Apple']\n",
    "for i in data:\n",
    "    if i == 'Apple':\n",
    "        continue\n",
    "    print(i)"
   ]
  },
  {
   "cell_type": "code",
   "execution_count": 13,
   "id": "b7418f37",
   "metadata": {},
   "outputs": [
    {
     "name": "stdout",
     "output_type": "stream",
     "text": [
      "Enter n = 10\n",
      "Enter x = 1234\n",
      "Enter x = 6543\n",
      "Enter x = 3456\n",
      "Enter x = 76543\n",
      "Enter x = 765\n",
      "Enter x = 76543\n",
      "Enter x = 87654\n",
      "Enter x = 7654\n",
      "Enter x = 2345\n",
      "Enter x = 2345\n",
      "[1234, 6543, 3456, 76543, 765, 76543, 87654, 7654, 2345, 2345]\n"
     ]
    }
   ],
   "source": [
    "data = []\n",
    "n = int(input(\"Enter n = \"))\n",
    "for i in range(n):\n",
    "    x = int(input(\"Enter x = \"))\n",
    "    data = data+[x]\n",
    "    \n",
    "print(data)"
   ]
  },
  {
   "cell_type": "code",
   "execution_count": 18,
   "id": "6325ff3d",
   "metadata": {},
   "outputs": [
    {
     "name": "stdout",
     "output_type": "stream",
     "text": [
      "Max value =  87654\n",
      "Min value =  765\n",
      "The sum is =  265082\n",
      "The Avg =  26508.2\n",
      "[765, 1234, 2345, 2345, 3456, 6543, 7654, 76543, 76543, 87654]\n"
     ]
    }
   ],
   "source": [
    "print(\"Max value = \",max(data))\n",
    "print(\"Min value = \",min(data))\n",
    "print(\"The sum is = \",sum(data))\n",
    "print(\"The Avg = \",sum(data)/n)\n",
    "data.sort()\n",
    "print(data)"
   ]
  },
  {
   "cell_type": "code",
   "execution_count": 19,
   "id": "f9fd678f",
   "metadata": {},
   "outputs": [
    {
     "name": "stdout",
     "output_type": "stream",
     "text": [
      "[87654, 76543, 76543, 7654, 6543, 3456, 2345, 2345, 1234, 765]\n"
     ]
    }
   ],
   "source": [
    "data.reverse()\n",
    "print(data)"
   ]
  },
  {
   "cell_type": "code",
   "execution_count": 20,
   "id": "e3cbfeb6",
   "metadata": {},
   "outputs": [
    {
     "name": "stdout",
     "output_type": "stream",
     "text": [
      "['Apple', 'Ball', 'Fish', 'Zebra']\n"
     ]
    }
   ],
   "source": [
    "data = ['Apple','Zebra','Ball','Fish']\n",
    "data.sort()\n",
    "print(data)"
   ]
  },
  {
   "cell_type": "code",
   "execution_count": 21,
   "id": "6e2ea2cf",
   "metadata": {},
   "outputs": [
    {
     "name": "stdout",
     "output_type": "stream",
     "text": [
      "['Ball', 'Fish', 'Zebra', 'apple']\n"
     ]
    }
   ],
   "source": [
    "data = ['apple','Zebra','Ball','Fish']\n",
    "data.sort()\n",
    "print(data)"
   ]
  },
  {
   "cell_type": "code",
   "execution_count": 22,
   "id": "4151bf07",
   "metadata": {},
   "outputs": [
    {
     "name": "stdout",
     "output_type": "stream",
     "text": [
      "['1apple', 'Ball', 'Fish', 'Zebra']\n"
     ]
    }
   ],
   "source": [
    "data = ['1apple','Zebra','Ball','Fish']\n",
    "data.sort()\n",
    "print(data)"
   ]
  },
  {
   "cell_type": "code",
   "execution_count": 23,
   "id": "03fca8cd",
   "metadata": {},
   "outputs": [
    {
     "data": {
      "text/plain": [
       "4"
      ]
     },
     "execution_count": 23,
     "metadata": {},
     "output_type": "execute_result"
    }
   ],
   "source": [
    "data = ['Apple','Zebra','Ball','Fish']\n",
    "len(data)"
   ]
  },
  {
   "cell_type": "code",
   "execution_count": 24,
   "id": "aa80f95f",
   "metadata": {},
   "outputs": [
    {
     "name": "stdout",
     "output_type": "stream",
     "text": [
      "5\n",
      "2\n"
     ]
    }
   ],
   "source": [
    "data = ['Apple','Zebra','Ball','Fish','Ball']\n",
    "print(len(data))\n",
    "print(data.count('Ball'))"
   ]
  },
  {
   "cell_type": "code",
   "execution_count": 25,
   "id": "348de976",
   "metadata": {},
   "outputs": [
    {
     "name": "stdout",
     "output_type": "stream",
     "text": [
      "Apple\n",
      "Zebra\n",
      "Ball\n",
      "Fish\n",
      "Ball\n"
     ]
    }
   ],
   "source": [
    "for i in data:\n",
    "    print(i)"
   ]
  },
  {
   "cell_type": "code",
   "execution_count": 28,
   "id": "14980465",
   "metadata": {},
   "outputs": [
    {
     "name": "stdout",
     "output_type": "stream",
     "text": [
      "Apple\n",
      "Zebra\n",
      "Ball\n",
      "Fish\n",
      "Ball\n"
     ]
    }
   ],
   "source": [
    "for i in range(len(data)):\n",
    "    print(data[i])\n",
    "    "
   ]
  },
  {
   "cell_type": "code",
   "execution_count": 30,
   "id": "0b428b28",
   "metadata": {},
   "outputs": [
    {
     "name": "stdout",
     "output_type": "stream",
     "text": [
      "0 Apple\n",
      "1 Zebra\n",
      "2 Ball\n",
      "3 Fish\n",
      "4 Ball\n"
     ]
    }
   ],
   "source": [
    "for i in range(len(data)):\n",
    "    print(i,data[i])"
   ]
  },
  {
   "cell_type": "code",
   "execution_count": 31,
   "id": "dec08025",
   "metadata": {},
   "outputs": [
    {
     "name": "stdout",
     "output_type": "stream",
     "text": [
      "2\n",
      "4\n"
     ]
    }
   ],
   "source": [
    "for i in range(len(data)):\n",
    "    if data[i] == 'Ball':\n",
    "        print(i)"
   ]
  },
  {
   "cell_type": "code",
   "execution_count": 1,
   "id": "b1c8b498",
   "metadata": {},
   "outputs": [],
   "source": [
    "# CRUD operations in list"
   ]
  },
  {
   "cell_type": "code",
   "execution_count": 2,
   "id": "7072713d",
   "metadata": {},
   "outputs": [
    {
     "name": "stdout",
     "output_type": "stream",
     "text": [
      "['Ram', 'Sita', 'Hari', 'Nita', 'Nabin', 'Sabin']\n"
     ]
    }
   ],
   "source": [
    "# append() extent() insert()\n",
    "a = [\"Ram\",\"Sita\",\"Hari\",\"Nita\",\"Nabin\"]\n",
    "a.append(\"Sabin\")\n",
    "print(a)"
   ]
  },
  {
   "cell_type": "code",
   "execution_count": 3,
   "id": "22dd71fc",
   "metadata": {},
   "outputs": [
    {
     "name": "stdout",
     "output_type": "stream",
     "text": [
      "['Ram', 'Hari', 'Sita', 'Nita', 'Nabin', 'Nabina', 'Sabina']\n"
     ]
    }
   ],
   "source": [
    "a = [\"Ram\",\"Hari\",\"Sita\",\"Nita\",\"Nabin\"]\n",
    "b = [\"Nabina\",\"Sabina\"]\n",
    "a.extend(b)\n",
    "print(a)"
   ]
  },
  {
   "cell_type": "code",
   "execution_count": 4,
   "id": "e8cc763b",
   "metadata": {},
   "outputs": [
    {
     "name": "stdout",
     "output_type": "stream",
     "text": [
      "['Ram', 'Sita', 'Akash', 'Hari', 'Nita', 'Nabina']\n"
     ]
    }
   ],
   "source": [
    "a = [\"Ram\",\"Sita\",\"Hari\",\"Nita\",\"Nabina\"]\n",
    "a.insert(2,\"Akash\")\n",
    "print(a)"
   ]
  },
  {
   "cell_type": "code",
   "execution_count": 5,
   "id": "1ef7b7be",
   "metadata": {},
   "outputs": [
    {
     "name": "stdout",
     "output_type": "stream",
     "text": [
      "Enter n = 2\n",
      "Enter x = 32\n",
      "Enter x = 34\n",
      "[32, 34]\n"
     ]
    }
   ],
   "source": [
    "data = []\n",
    "n = int(input(\"Enter n = \"))\n",
    "for i in range(n):\n",
    "    x = int(input(\"Enter x = \"))\n",
    "    data.append(x)\n",
    "    \n",
    "print(data)"
   ]
  },
  {
   "cell_type": "code",
   "execution_count": 6,
   "id": "7e7df0fb",
   "metadata": {},
   "outputs": [
    {
     "name": "stdout",
     "output_type": "stream",
     "text": [
      "['Sita', 'Hari', 'Nita', 'Nabin']\n"
     ]
    }
   ],
   "source": [
    "# del remove() pop()\n",
    "\n",
    "a = [\"Ram\",\"Sita\",\"Hari\",\"Nita\",\"Nabin\"]\n",
    "del a[0]\n",
    "print(a)"
   ]
  },
  {
   "cell_type": "code",
   "execution_count": 7,
   "id": "1190cd7d",
   "metadata": {},
   "outputs": [
    {
     "name": "stdout",
     "output_type": "stream",
     "text": [
      "['Nita', 'Nabin']\n"
     ]
    }
   ],
   "source": [
    "a = [\"Ram\",\"Sita\",\"Hari\",\"Nita\",\"Nabin\"]\n",
    "del a[0:3]\n",
    "print(a)"
   ]
  },
  {
   "cell_type": "code",
   "execution_count": 9,
   "id": "0314fc4f",
   "metadata": {},
   "outputs": [
    {
     "name": "stdout",
     "output_type": "stream",
     "text": [
      "['Ram', 'Akash', 'Hari', 'Nita', 'Nabin']\n"
     ]
    }
   ],
   "source": [
    "a = [\"Ram\",\"Sita\",\"Akash\",\"Hari\",\"Nita\",\"Nabin\"]\n",
    "a.remove(\"Sita\")\n",
    "print(a)"
   ]
  },
  {
   "cell_type": "code",
   "execution_count": 11,
   "id": "c4b62d25",
   "metadata": {},
   "outputs": [
    {
     "name": "stdout",
     "output_type": "stream",
     "text": [
      "['Ram', 'Akash', 'Hari', 'Nita', 'Nabin']\n"
     ]
    }
   ],
   "source": [
    "a = [\"Ram\",\"Sita\",\"Akash\",\"Hari\",\"Nita\",\"Nabin\",\"Sita\"]\n",
    "# c = a.count(\"Sita\")\n",
    "for i in a:\n",
    "    if i == \"Sita\":\n",
    "        a.remove(\"Sita\")\n",
    "\n",
    "print(a)"
   ]
  },
  {
   "cell_type": "code",
   "execution_count": 19,
   "id": "6d5c7986",
   "metadata": {},
   "outputs": [
    {
     "name": "stdout",
     "output_type": "stream",
     "text": [
      "Enter name = Sita\n",
      "['Ram', 'Akash', 'Hari', 'Nita', 'Nabin']\n"
     ]
    }
   ],
   "source": [
    "a = [\"Ram\",\"Sita\",\"Akash\",\"Hari\",\"Nita\",\"Nabin\"]\n",
    "name = input(\"Enter name = \")\n",
    "for i in a:\n",
    "     if i == name:\n",
    "            a.remove(name)\n",
    "     \n",
    "print(a)"
   ]
  },
  {
   "cell_type": "code",
   "execution_count": 21,
   "id": "bf710830",
   "metadata": {},
   "outputs": [
    {
     "name": "stdout",
     "output_type": "stream",
     "text": [
      "['Ram', 'Sita', 'Akash', 'Hari', 'Nabin']\n",
      "Nita\n"
     ]
    }
   ],
   "source": [
    "a = [\"Ram\",\"Sita\",\"Akash\",\"Hari\",\"Nita\",\"Nabin\"]\n",
    "b = a.pop(4)\n",
    "print(a)\n",
    "print(b)"
   ]
  },
  {
   "cell_type": "code",
   "execution_count": 29,
   "id": "35689641",
   "metadata": {},
   "outputs": [
    {
     "name": "stdout",
     "output_type": "stream",
     "text": [
      "Apple 200 3 600\n",
      " Banana 100 2 200\n"
     ]
    },
    {
     "data": {
      "text/plain": [
       "['Apple 200 3 600', ' Banana 100 2 200']"
      ]
     },
     "execution_count": 29,
     "metadata": {},
     "output_type": "execute_result"
    }
   ],
   "source": [
    "a = \"Apple 200 3 600\\n Banana 100 2 200\"\n",
    "print(a)\n",
    "a.split('\\n')\n"
   ]
  },
  {
   "cell_type": "code",
   "execution_count": 28,
   "id": "e5d918f5",
   "metadata": {},
   "outputs": [
    {
     "name": "stdout",
     "output_type": "stream",
     "text": [
      "['Apple 200 3 600', ' Banana 100 2 200']\n",
      "Apple 200 3 600\n"
     ]
    }
   ],
   "source": [
    "a = \"Apple 200 3 600\\n Banana 100 2 200\"\n",
    "b = a.split('\\n')\n",
    "print(b)\n",
    "print(b[0])"
   ]
  },
  {
   "cell_type": "code",
   "execution_count": 30,
   "id": "d250a9cd",
   "metadata": {},
   "outputs": [
    {
     "name": "stdout",
     "output_type": "stream",
     "text": [
      "4\n"
     ]
    }
   ],
   "source": [
    "# list inside list\n",
    "a = [[1,2,3],[4,5,6],[7,8,9],[10,11,12]]\n",
    "print(len(a))"
   ]
  },
  {
   "cell_type": "code",
   "execution_count": 32,
   "id": "93a55df0",
   "metadata": {},
   "outputs": [
    {
     "name": "stdout",
     "output_type": "stream",
     "text": [
      "[['Apple', 200, 3, 600], ['Banana', 100, 2, 200]]\n"
     ]
    }
   ],
   "source": [
    "a = [[\"Apple\",200,3,600],[\"Banana\",100,2,200]]\n",
    "print(a)"
   ]
  },
  {
   "cell_type": "code",
   "execution_count": 33,
   "id": "9056b87c",
   "metadata": {},
   "outputs": [
    {
     "name": "stdout",
     "output_type": "stream",
     "text": [
      "['Apple', 200, 3, 600]\n"
     ]
    }
   ],
   "source": [
    "print(a[0])"
   ]
  },
  {
   "cell_type": "code",
   "execution_count": 34,
   "id": "badd6eea",
   "metadata": {},
   "outputs": [
    {
     "data": {
      "text/plain": [
       "'Apple'"
      ]
     },
     "execution_count": 34,
     "metadata": {},
     "output_type": "execute_result"
    }
   ],
   "source": [
    "a[0][0]"
   ]
  },
  {
   "cell_type": "code",
   "execution_count": 35,
   "id": "53b411e1",
   "metadata": {},
   "outputs": [
    {
     "data": {
      "text/plain": [
       "'Banana'"
      ]
     },
     "execution_count": 35,
     "metadata": {},
     "output_type": "execute_result"
    }
   ],
   "source": [
    "a[1][0]"
   ]
  },
  {
   "cell_type": "code",
   "execution_count": 36,
   "id": "a5289dd3",
   "metadata": {},
   "outputs": [
    {
     "data": {
      "text/plain": [
       "['Banana', 100, 2, 200]"
      ]
     },
     "execution_count": 36,
     "metadata": {},
     "output_type": "execute_result"
    }
   ],
   "source": [
    "a[1]"
   ]
  },
  {
   "cell_type": "code",
   "execution_count": 38,
   "id": "3fc191b8",
   "metadata": {},
   "outputs": [
    {
     "name": "stdout",
     "output_type": "stream",
     "text": [
      "Enter n = 2\n",
      "Enter name = Ram\n",
      "Enter age = 34\n",
      "Enter add = Kathmandu\n",
      "Enter name = Sita\n",
      "Enter age = 23\n",
      "Enter add = Bhaktapur\n",
      "[['Ram', 34, 'Kathmandu'], ['Sita', 23, 'Bhaktapur']]\n"
     ]
    }
   ],
   "source": [
    "data = []\n",
    "n = int(input(\"Enter n = \"))\n",
    "for i in range(n):\n",
    "    name = input(\"Enter name = \")\n",
    "    age = int(input(\"Enter age = \"))\n",
    "    add = input(\"Enter add = \")\n",
    "    info = [name,age,add]\n",
    "    data.append(info)\n",
    "print(data)\n",
    "               "
   ]
  },
  {
   "cell_type": "code",
   "execution_count": 43,
   "id": "649d576c",
   "metadata": {},
   "outputs": [
    {
     "name": "stdout",
     "output_type": "stream",
     "text": [
      "Enter n = 2\n",
      "Enter name = Ram\n",
      "Enter age = 34\n",
      "Enter add = Kathmandu\n",
      "Enter name = Sita\n",
      "Enter age = 23\n",
      "Enter add = Lalitpur\n",
      "[[1, 'Ram', 34, 'Kathmandu'], [2, 'Sita', 23, 'Lalitpur']]\n"
     ]
    }
   ],
   "source": [
    "data = []\n",
    "n = int(input(\"Enter n = \"))\n",
    "for i in range(1,n+1):\n",
    "    name = input(\"Enter name = \")\n",
    "    age = int(input(\"Enter age = \"))\n",
    "    add = input(\"Enter add = \")\n",
    "    info = [i,name,age,add]\n",
    "    data.append(info)\n",
    "print(data)"
   ]
  },
  {
   "cell_type": "code",
   "execution_count": 44,
   "id": "44f839c8",
   "metadata": {
    "scrolled": true
   },
   "outputs": [
    {
     "name": "stdout",
     "output_type": "stream",
     "text": [
      "[1, 'Ram', 34, 'Kathmandu']\n",
      "[2, 'Shyam', 34, 'Lalitpur']\n"
     ]
    }
   ],
   "source": [
    "data = [[1,'Ram',34,'Kathmandu'],[2,'Shyam',34,'Lalitpur']]\n",
    "for i in data:\n",
    "    print(i)"
   ]
  },
  {
   "cell_type": "code",
   "execution_count": 45,
   "id": "b64fefdb",
   "metadata": {},
   "outputs": [
    {
     "name": "stdout",
     "output_type": "stream",
     "text": [
      "Enter name = Ram\n",
      "[1, 'Ram', 34, 'Kathmandu']\n"
     ]
    }
   ],
   "source": [
    "data = [[1,'Ram',34,'Kathmandu'],[2,'Shyam',34,'Lalitpur']]\n",
    "name = input(\"Enter name = \")\n",
    "for i in data:\n",
    "    if name in i:\n",
    "        print(i)"
   ]
  },
  {
   "cell_type": "code",
   "execution_count": 48,
   "id": "8e69b37a",
   "metadata": {},
   "outputs": [
    {
     "name": "stdout",
     "output_type": "stream",
     "text": [
      "Enter name = Ram\n",
      "[[2, 'Shyam', 34, 'Lalitpur']]\n"
     ]
    }
   ],
   "source": [
    "data = [[1,'Ram',34,'Kathmandu'],[2,'Shyam',34,'Lalitpur']]\n",
    "name = input(\"Enter name = \")\n",
    "for i in data:\n",
    "    if name in i:\n",
    "        data.remove(i)\n",
    "print(data)"
   ]
  },
  {
   "cell_type": "code",
   "execution_count": 49,
   "id": "ae8862a4",
   "metadata": {},
   "outputs": [
    {
     "name": "stdout",
     "output_type": "stream",
     "text": [
      "Enter name = Shyam\n",
      "1\n"
     ]
    }
   ],
   "source": [
    "data = [[1,'Ram',34,'Kathmandu'],[2,'Shyam',34,'Lalitpur']]\n",
    "name = input(\"Enter name = \")\n",
    "for i in range(len(data)):\n",
    "    if name in data[i]:\n",
    "        print(i)"
   ]
  },
  {
   "cell_type": "code",
   "execution_count": 50,
   "id": "4ea05358",
   "metadata": {},
   "outputs": [
    {
     "data": {
      "text/plain": [
       "[[1, 'Rama', 54, 'Kathmandu'], [2, 'Shyam', 34, 'Lalitpur']]"
      ]
     },
     "execution_count": 50,
     "metadata": {},
     "output_type": "execute_result"
    }
   ],
   "source": [
    "\n",
    "data = [[1,'Ram',34,'Kathmandu'],[2,'Shyam',34,'Lalitpur']]\n",
    "data[0] = [1,'Rama',54,'Kathmandu']\n",
    "data"
   ]
  },
  {
   "cell_type": "code",
   "execution_count": 51,
   "id": "4cb53434",
   "metadata": {},
   "outputs": [
    {
     "data": {
      "text/plain": [
       "[[1, 'Ram Krishna', 34, 'Kathmandu'], [2, 'Shyam', 34, 'Lalitpur']]"
      ]
     },
     "execution_count": 51,
     "metadata": {},
     "output_type": "execute_result"
    }
   ],
   "source": [
    "data = [[1,'Ram',34,'Kathmandu'],[2,'Shyam',34,'Lalitpur']]\n",
    "data[0][1] = \"Ram Krishna\"\n",
    "data"
   ]
  },
  {
   "cell_type": "code",
   "execution_count": 1,
   "id": "235dcfc0",
   "metadata": {},
   "outputs": [],
   "source": [
    "# WAP to develop a billing application(CRUD)\n",
    "# WAP to develop result management system(CRUD)\n",
    "# WAP to develop a matrix(CRUD)\n",
    "# WAP to change\n",
    "# ['Apple 200 3 600' 'Banana 100 2 200']\n",
    "# to\n",
    "# [['Apple',200,3,600],['Banana',100,2,200]]\n"
   ]
  },
  {
   "cell_type": "code",
   "execution_count": 4,
   "id": "d1d18a55",
   "metadata": {},
   "outputs": [
    {
     "data": {
      "text/plain": [
       "[[1, 2, 3], [4, 5, 6]]"
      ]
     },
     "execution_count": 4,
     "metadata": {},
     "output_type": "execute_result"
    }
   ],
   "source": [
    "# # Matrix\n",
    "# c = [1,2,3]\n",
    "#     [4,5,6]\n",
    "#     [7,8,9]\n",
    "# r = ?\n",
    "# c = ?\n",
    "[[1,2,3],[4,5,6]]"
   ]
  },
  {
   "cell_type": "code",
   "execution_count": 3,
   "id": "1813dcdb",
   "metadata": {},
   "outputs": [
    {
     "name": "stdout",
     "output_type": "stream",
     "text": [
      "Enter c = 3\n",
      "Enter r = 3\n",
      "Enter x = 1\n",
      "Enter x = 2\n",
      "Enter x = 3\n",
      "Enter x = 4\n",
      "Enter x = 5\n",
      "Enter x = 6\n",
      "Enter x = 7\n",
      "Enter x = 8\n",
      "Enter x = 9\n",
      "[[1, 2, 3], [4, 5, 6], [7, 8, 9]]\n"
     ]
    }
   ],
   "source": [
    "a = []\n",
    "c = int(input(\"Enter c = \"))\n",
    "r = int(input(\"Enter r = \"))\n",
    "for i in range(r):\n",
    "    b = []\n",
    "    for j in range(c):\n",
    "        x = int(input(\"Enter x = \"))\n",
    "        b.append(x)\n",
    "    a.append(b)\n",
    "    \n",
    "print(a)"
   ]
  },
  {
   "cell_type": "code",
   "execution_count": 5,
   "id": "9578c55c",
   "metadata": {},
   "outputs": [
    {
     "name": "stdout",
     "output_type": "stream",
     "text": [
      "[['Apple', '200', '3', '600'], ['Banana', '100', '2', '200']]\n"
     ]
    }
   ],
   "source": [
    "# WAP to change\n",
    "# ['Apple 200 3 600' 'Banana 100 2 200']\n",
    "# to\n",
    "# [['Apple',200,3,600],['Banana',100,2,200]]\n",
    "\n",
    "b = []\n",
    "a = ['Apple 200 3 600','Banana 100 2 200']\n",
    "for i in a:\n",
    "    x = i.split()\n",
    "    b.append(x)\n",
    "print(b)\n"
   ]
  },
  {
   "cell_type": "code",
   "execution_count": null,
   "id": "9919437c",
   "metadata": {},
   "outputs": [],
   "source": [
    "z = 'Apple 200 3 600\\nBanana 100 2 200'\n",
    "y = z.split('\\n')\n",
    "print(y)\n",
    "# ['Apple 200 3 600', 'Banana', 100 2 200']\n",
    "b = []\n",
    "for i in y:\n",
    "    x = i.split()\n",
    "    b.append(x)\n",
    "print(b)\n",
    "a = ['Apple 200 3 600','Banana 100 2 200']\n",
    "for i in a:\n",
    "    x = i.split()\n",
    "    b.append(x)\n",
    "print(b)"
   ]
  }
 ],
 "metadata": {
  "kernelspec": {
   "display_name": "Python 3 (ipykernel)",
   "language": "python",
   "name": "python3"
  },
  "language_info": {
   "codemirror_mode": {
    "name": "ipython",
    "version": 3
   },
   "file_extension": ".py",
   "mimetype": "text/x-python",
   "name": "python",
   "nbconvert_exporter": "python",
   "pygments_lexer": "ipython3",
   "version": "3.9.7"
  }
 },
 "nbformat": 4,
 "nbformat_minor": 5
}

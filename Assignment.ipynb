{
 "cells": [
  {
   "cell_type": "code",
   "execution_count": null,
   "id": "c544136a",
   "metadata": {},
   "outputs": [],
   "source": [
    "# WAP to find the given no i prime or composite\n",
    "# WAP to draw patterns\n",
    "# *\n",
    "# **\n",
    "# ***\n",
    "# ****\n",
    "# *****\n",
    "# WAP to remove all digits from a given string (0,1,2,3,4,5,6,7,8,9)\n",
    "# WAP to make a result management system"
   ]
  },
  {
   "cell_type": "code",
   "execution_count": null,
   "id": "77f307a5",
   "metadata": {},
   "outputs": [],
   "source": []
  }
 ],
 "metadata": {
  "kernelspec": {
   "display_name": "Python 3 (ipykernel)",
   "language": "python",
   "name": "python3"
  },
  "language_info": {
   "codemirror_mode": {
    "name": "ipython",
    "version": 3
   },
   "file_extension": ".py",
   "mimetype": "text/x-python",
   "name": "python",
   "nbconvert_exporter": "python",
   "pygments_lexer": "ipython3",
   "version": "3.9.7"
  }
 },
 "nbformat": 4,
 "nbformat_minor": 5
}

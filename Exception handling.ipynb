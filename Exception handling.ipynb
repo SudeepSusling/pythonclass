{
 "cells": [
  {
   "cell_type": "code",
   "execution_count": 1,
   "id": "a9064f6c",
   "metadata": {},
   "outputs": [],
   "source": [
    "# try:\n",
    "#    <run the code>\n",
    "# except:\n",
    "#    <error message> "
   ]
  },
  {
   "cell_type": "code",
   "execution_count": 3,
   "id": "7b2a0575",
   "metadata": {
    "scrolled": true
   },
   "outputs": [
    {
     "name": "stdout",
     "output_type": "stream",
     "text": [
      "Enter age = ten\n"
     ]
    },
    {
     "ename": "ValueError",
     "evalue": "invalid literal for int() with base 10: 'ten'",
     "output_type": "error",
     "traceback": [
      "\u001b[0;31m---------------------------------------------------------------------------\u001b[0m",
      "\u001b[0;31mValueError\u001b[0m                                Traceback (most recent call last)",
      "\u001b[0;32m/var/folders/1s/0yjclyps7svf7srgrn_bqx1c0000gn/T/ipykernel_942/3518621753.py\u001b[0m in \u001b[0;36m<module>\u001b[0;34m\u001b[0m\n\u001b[0;32m----> 1\u001b[0;31m \u001b[0mage\u001b[0m \u001b[0;34m=\u001b[0m \u001b[0mint\u001b[0m\u001b[0;34m(\u001b[0m\u001b[0minput\u001b[0m\u001b[0;34m(\u001b[0m\u001b[0;34m\"Enter age = \"\u001b[0m\u001b[0;34m)\u001b[0m\u001b[0;34m)\u001b[0m\u001b[0;34m\u001b[0m\u001b[0;34m\u001b[0m\u001b[0m\n\u001b[0m",
      "\u001b[0;31mValueError\u001b[0m: invalid literal for int() with base 10: 'ten'"
     ]
    }
   ],
   "source": [
    "age = int(input(\"Enter age = \"))"
   ]
  },
  {
   "cell_type": "code",
   "execution_count": 2,
   "id": "bbc56664",
   "metadata": {
    "scrolled": true
   },
   "outputs": [
    {
     "name": "stdout",
     "output_type": "stream",
     "text": [
      "Enter age = ten\n",
      "The age should be integer\n"
     ]
    }
   ],
   "source": [
    "try:\n",
    "    age = int(input(\"Enter age = \"))\n",
    "except:\n",
    "    print(\"The age should be integer\")"
   ]
  },
  {
   "cell_type": "code",
   "execution_count": 7,
   "id": "a713e298",
   "metadata": {},
   "outputs": [
    {
     "name": "stdout",
     "output_type": "stream",
     "text": [
      "Enter a = 10\n",
      "Enter b = 0\n",
      "Error\n"
     ]
    }
   ],
   "source": [
    "try:\n",
    "    a = int(input(\"Enter a = \"))\n",
    "    b = int(input(\"Enter b = \"))\n",
    "    c = a/b\n",
    "    print(c)\n",
    "except:\n",
    "    print(\"Error\")"
   ]
  },
  {
   "cell_type": "code",
   "execution_count": 8,
   "id": "c21bea26",
   "metadata": {},
   "outputs": [
    {
     "name": "stdout",
     "output_type": "stream",
     "text": [
      "Enter a = 10\n",
      "Enter b = 0\n",
      "Value of b can not be zero\n"
     ]
    }
   ],
   "source": [
    "try:\n",
    "    a = int(input(\"Enter a = \"))\n",
    "    b = int(input(\"Enter b = \"))\n",
    "    c = a/b\n",
    "    print(c)\n",
    "except ValueError:\n",
    "    print(\"Error\")\n",
    "except ZeroDivisionError:\n",
    "    print(\"Value of b can not be zero\")"
   ]
  },
  {
   "cell_type": "code",
   "execution_count": 1,
   "id": "8c540057",
   "metadata": {},
   "outputs": [
    {
     "name": "stdout",
     "output_type": "stream",
     "text": [
      "Enter a = 10\n",
      "Enter b = 0\n",
      "Value of b can not be zero\n"
     ]
    }
   ],
   "source": [
    "def cal(): \n",
    "    try:\n",
    "        a = int(input(\"Enter a = \"))\n",
    "        b = int(input(\"Enter b = \"))\n",
    "        c = a/b\n",
    "        print(c)\n",
    "    except ValueError:\n",
    "        print(\"Error\")\n",
    "    except ZeroDivisionError:\n",
    "        print(\"Value of b can not be zero\")\n",
    "\n",
    "cal()"
   ]
  },
  {
   "cell_type": "code",
   "execution_count": 2,
   "id": "c184d0d7",
   "metadata": {},
   "outputs": [
    {
     "name": "stdout",
     "output_type": "stream",
     "text": [
      "Enter a = 10\n",
      "Enter b = 0\n",
      "Value of b can not be zero\n",
      "Enter a = ten\n",
      "Error\n",
      "Enter a = 10\n",
      "Enter b = 2\n",
      "5.0\n"
     ]
    }
   ],
   "source": [
    "def cal(): \n",
    "    try:\n",
    "        a = int(input(\"Enter a = \"))\n",
    "        b = int(input(\"Enter b = \"))\n",
    "        c = a/b\n",
    "        print(c)\n",
    "    except ValueError:\n",
    "        print(\"Error\")\n",
    "        cal()\n",
    "    except ZeroDivisionError:\n",
    "        print(\"Value of b can not be zero\")\n",
    "        cal()\n",
    "\n",
    "cal()"
   ]
  },
  {
   "cell_type": "code",
   "execution_count": 3,
   "id": "9c21cf1e",
   "metadata": {},
   "outputs": [
    {
     "name": "stdout",
     "output_type": "stream",
     "text": [
      "Enter a = 10\n",
      "Enter b = 2\n",
      "5.0\n"
     ]
    }
   ],
   "source": [
    "try:\n",
    "    a = int(input(\"Enter a = \"))\n",
    "    b = int(input(\"Enter b = \"))\n",
    "    c = a/b\n",
    "except ValueError:\n",
    "    print(\"Error\")\n",
    "except ZeroDivisionError:\n",
    "    print(\"Value of b can not be zero\")\n",
    "else:\n",
    "    print(c)"
   ]
  },
  {
   "cell_type": "code",
   "execution_count": 4,
   "id": "f68922d8",
   "metadata": {},
   "outputs": [
    {
     "name": "stdout",
     "output_type": "stream",
     "text": [
      "There is no such file\n"
     ]
    }
   ],
   "source": [
    "try:\n",
    "    b = open('abc.txt')\n",
    "    b.close()\n",
    "except:\n",
    "    print(\"There is no such file\")"
   ]
  },
  {
   "cell_type": "code",
   "execution_count": 5,
   "id": "23a585b9",
   "metadata": {},
   "outputs": [
    {
     "name": "stdout",
     "output_type": "stream",
     "text": [
      "Error\n"
     ]
    }
   ],
   "source": [
    "try:\n",
    "    fileptr = open(\"book.txt\",\"r\")\n",
    "    try:\n",
    "        fileptr.write(\"Hi I am good\")\n",
    "    finally:\n",
    "        fileptr.close()\n",
    "        print(\"file closed\")\n",
    "except:\n",
    "    print(\"Error\")"
   ]
  },
  {
   "cell_type": "code",
   "execution_count": 8,
   "id": "30619f42",
   "metadata": {},
   "outputs": [
    {
     "name": "stdout",
     "output_type": "stream",
     "text": [
      "Error\n",
      "file closed\n"
     ]
    }
   ],
   "source": [
    "try:\n",
    "    fileptr = open(\"book.txt\",\"r\")\n",
    "    try:\n",
    "        fileptr.write(\"Hi I am good\")\n",
    "    except:\n",
    "        pass\n",
    "except:\n",
    "    print(\"Error\")\n",
    "finally:\n",
    "    print(\"file closed\")\n"
   ]
  },
  {
   "cell_type": "code",
   "execution_count": 9,
   "id": "3f0bdf1c",
   "metadata": {},
   "outputs": [
    {
     "name": "stdout",
     "output_type": "stream",
     "text": [
      "Error\n",
      "file closed\n"
     ]
    }
   ],
   "source": [
    "try:\n",
    "    fileptr = open(\"book.txt\",\"r\")\n",
    "    try:\n",
    "        fileptr.write(\"Hi I am good\")\n",
    "        fileptr.close()\n",
    "    except:\n",
    "        pass\n",
    "except:\n",
    "    print(\"Error\")\n",
    "finally:\n",
    "    print(\"file closed\")"
   ]
  },
  {
   "cell_type": "code",
   "execution_count": 12,
   "id": "da395144",
   "metadata": {},
   "outputs": [
    {
     "name": "stdout",
     "output_type": "stream",
     "text": [
      "There is no such file\n",
      "Your are trying to open the book\n"
     ]
    }
   ],
   "source": [
    "try:\n",
    "    b = open('abc.txt')\n",
    "except:\n",
    "    print(\"There is no such file\")\n",
    "else:\n",
    "    print(b.read())\n",
    "    b.close()\n",
    "finally:\n",
    "    print(\"Your are trying to open the book\")"
   ]
  },
  {
   "cell_type": "code",
   "execution_count": 15,
   "id": "541b9c11",
   "metadata": {},
   "outputs": [],
   "source": [
    "#else and finally\n",
    "\n",
    "#try:\n",
    "    #statements in try block\n",
    "#except:\n",
    "    #executed when error in try block\n",
    "#else:\n",
    "    #executed if try block is error-free\n",
    "#finally:\n",
    "    #executed irrespective of execution occured or not"
   ]
  },
  {
   "cell_type": "code",
   "execution_count": 1,
   "id": "ed7f8624",
   "metadata": {},
   "outputs": [
    {
     "name": "stdout",
     "output_type": "stream",
     "text": [
      "try block\n",
      "Enter a number = 10\n",
      "Enter another number: 2\n",
      "else block\n",
      "Division = 5.0\n",
      "finally block\n",
      "Out of try, except, else and finally block\n"
     ]
    }
   ],
   "source": [
    "# else and finally\n",
    "\n",
    "try:\n",
    "    print(\"try block\")\n",
    "    x = int(input(\"Enter a number = \"))\n",
    "    y = int(input(\"Enter another number: \"))\n",
    "    z = x/y\n",
    "except ZeroDivisionError:\n",
    "    print(\"except ZeroDivisionError block\")\n",
    "    print(\"Division by 0 not accepted\")\n",
    "else:\n",
    "    print(\"else block\")\n",
    "    print(\"Division =\",z)\n",
    "finally:\n",
    "    print(\"finally block\")\n",
    "    print(\"Out of try, except, else and finally block\")\n",
    "    \n",
    "    \n",
    "    "
   ]
  },
  {
   "cell_type": "code",
   "execution_count": 2,
   "id": "5b1453c5",
   "metadata": {},
   "outputs": [
    {
     "name": "stdout",
     "output_type": "stream",
     "text": [
      "Enter a?10\n",
      "Enter b?0\n",
      "The value of b can't be 0\n"
     ]
    }
   ],
   "source": [
    "# Try, raise, else, except\n",
    "\n",
    "try:\n",
    "    a = int(input(\"Enter a?\"))\n",
    "    b = int(input(\"Enter b?\"))\n",
    "    if b == 0:\n",
    "        raise ZeroDivisionError\n",
    "    else:\n",
    "        print(\"a/b =\",a/b)\n",
    "except ZeroDivisionError:\n",
    "    print(\"The value of b can't be 0\")\n",
    "    "
   ]
  },
  {
   "cell_type": "code",
   "execution_count": 3,
   "id": "aeed4a95",
   "metadata": {},
   "outputs": [],
   "source": [
    "# Assert Statement\n",
    "# Python provides the assert statement to check if a given logical expression is true or false.\n",
    "# Program execution proceeds only if the expression is true and raises the AssertionError when it is false.\n",
    "# num = int(input(\"Enter a number: \"))\n",
    "# assert num>=0\n",
    "# print(\"You entered:',num \")"
   ]
  },
  {
   "cell_type": "code",
   "execution_count": 4,
   "id": "84bd5602",
   "metadata": {},
   "outputs": [
    {
     "ename": "AssertionError",
     "evalue": "",
     "output_type": "error",
     "traceback": [
      "\u001b[0;31m---------------------------------------------------------------------------\u001b[0m",
      "\u001b[0;31mAssertionError\u001b[0m                            Traceback (most recent call last)",
      "\u001b[0;32m/var/folders/1s/0yjclyps7svf7srgrn_bqx1c0000gn/T/ipykernel_4602/29552407.py\u001b[0m in \u001b[0;36m<module>\u001b[0;34m\u001b[0m\n\u001b[1;32m      1\u001b[0m \u001b[0ma\u001b[0m \u001b[0;34m=\u001b[0m \u001b[0;36m10\u001b[0m\u001b[0;34m\u001b[0m\u001b[0;34m\u001b[0m\u001b[0m\n\u001b[1;32m      2\u001b[0m \u001b[0mb\u001b[0m \u001b[0;34m=\u001b[0m \u001b[0;36m2\u001b[0m\u001b[0;34m\u001b[0m\u001b[0;34m\u001b[0m\u001b[0m\n\u001b[0;32m----> 3\u001b[0;31m \u001b[0;32massert\u001b[0m \u001b[0ma\u001b[0m\u001b[0;34m<\u001b[0m\u001b[0mb\u001b[0m\u001b[0;34m\u001b[0m\u001b[0;34m\u001b[0m\u001b[0m\n\u001b[0m",
      "\u001b[0;31mAssertionError\u001b[0m: "
     ]
    }
   ],
   "source": [
    "a = 10\n",
    "b = 2\n",
    "assert a<b"
   ]
  },
  {
   "cell_type": "code",
   "execution_count": 5,
   "id": "69b8e061",
   "metadata": {},
   "outputs": [],
   "source": [
    "a = 10\n",
    "b = 2\n",
    "assert a>b"
   ]
  },
  {
   "cell_type": "code",
   "execution_count": 6,
   "id": "4e39a543",
   "metadata": {},
   "outputs": [
    {
     "name": "stdout",
     "output_type": "stream",
     "text": [
      "Enter x = 11\n"
     ]
    },
    {
     "ename": "AssertionError",
     "evalue": "",
     "output_type": "error",
     "traceback": [
      "\u001b[0;31m---------------------------------------------------------------------------\u001b[0m",
      "\u001b[0;31mAssertionError\u001b[0m                            Traceback (most recent call last)",
      "\u001b[0;32m/var/folders/1s/0yjclyps7svf7srgrn_bqx1c0000gn/T/ipykernel_4602/2247544961.py\u001b[0m in \u001b[0;36m<module>\u001b[0;34m\u001b[0m\n\u001b[1;32m      1\u001b[0m \u001b[0mx\u001b[0m \u001b[0;34m=\u001b[0m \u001b[0mint\u001b[0m\u001b[0;34m(\u001b[0m\u001b[0minput\u001b[0m\u001b[0;34m(\u001b[0m\u001b[0;34m\"Enter x = \"\u001b[0m\u001b[0;34m)\u001b[0m\u001b[0;34m)\u001b[0m\u001b[0;34m\u001b[0m\u001b[0;34m\u001b[0m\u001b[0m\n\u001b[0;32m----> 2\u001b[0;31m \u001b[0;32massert\u001b[0m \u001b[0mx\u001b[0m\u001b[0;34m%\u001b[0m\u001b[0;36m2\u001b[0m \u001b[0;34m==\u001b[0m \u001b[0;36m0\u001b[0m\u001b[0;34m\u001b[0m\u001b[0;34m\u001b[0m\u001b[0m\n\u001b[0m",
      "\u001b[0;31mAssertionError\u001b[0m: "
     ]
    }
   ],
   "source": [
    "x = int(input(\"Enter x = \"))\n",
    "assert x%2 == 0"
   ]
  },
  {
   "cell_type": "code",
   "execution_count": 7,
   "id": "b313b719",
   "metadata": {},
   "outputs": [
    {
     "name": "stdout",
     "output_type": "stream",
     "text": [
      "Enter x = 10\n"
     ]
    }
   ],
   "source": [
    "x = int(input(\"Enter x = \"))\n",
    "assert x%2 == 0"
   ]
  },
  {
   "cell_type": "code",
   "execution_count": 8,
   "id": "9de03f8d",
   "metadata": {},
   "outputs": [
    {
     "name": "stdout",
     "output_type": "stream",
     "text": [
      "Enter x = 11\n",
      "x should be always even\n"
     ]
    }
   ],
   "source": [
    "try:\n",
    "    x = int(input(\"Enter x = \"))\n",
    "    assert x%2 == 0\n",
    "except AssertionError:\n",
    "    print(\"x should be always even\")"
   ]
  },
  {
   "cell_type": "code",
   "execution_count": null,
   "id": "5a99d7fe",
   "metadata": {},
   "outputs": [],
   "source": []
  }
 ],
 "metadata": {
  "kernelspec": {
   "display_name": "Python 3 (ipykernel)",
   "language": "python",
   "name": "python3"
  },
  "language_info": {
   "codemirror_mode": {
    "name": "ipython",
    "version": 3
   },
   "file_extension": ".py",
   "mimetype": "text/x-python",
   "name": "python",
   "nbconvert_exporter": "python",
   "pygments_lexer": "ipython3",
   "version": "3.9.7"
  }
 },
 "nbformat": 4,
 "nbformat_minor": 5
}

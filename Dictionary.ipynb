{
 "cells": [
  {
   "cell_type": "code",
   "execution_count": 1,
   "id": "6b117c49",
   "metadata": {},
   "outputs": [],
   "source": [
    "# Dictionary\n",
    "# -Indexed\n",
    "# -Ordered\n",
    "# -Multiple values\n",
    "# -Duplicate values\n",
    "# -Mutable"
   ]
  },
  {
   "cell_type": "code",
   "execution_count": 2,
   "id": "279e7d53",
   "metadata": {},
   "outputs": [
    {
     "name": "stdout",
     "output_type": "stream",
     "text": [
      "<class 'dict'>\n"
     ]
    }
   ],
   "source": [
    "d = {}\n",
    "print(type(d))"
   ]
  },
  {
   "cell_type": "code",
   "execution_count": 3,
   "id": "c8a4fdfb",
   "metadata": {},
   "outputs": [],
   "source": [
    "# d = {<key>:<values>}"
   ]
  },
  {
   "cell_type": "code",
   "execution_count": 4,
   "id": "378f1db0",
   "metadata": {},
   "outputs": [
    {
     "name": "stdout",
     "output_type": "stream",
     "text": [
      "{'a': 'Apple'}\n",
      "<class 'dict'>\n"
     ]
    }
   ],
   "source": [
    "d = {'a':\"Apple\"}\n",
    "print(d)\n",
    "print(type(d))"
   ]
  },
  {
   "cell_type": "code",
   "execution_count": 6,
   "id": "43a9deb4",
   "metadata": {},
   "outputs": [
    {
     "name": "stdout",
     "output_type": "stream",
     "text": [
      "Apple\n"
     ]
    }
   ],
   "source": [
    "d = {'a':\"Apple\",\"b\":\"Ball\",\"c\":\"Cat\"}\n",
    "print(d['a'])"
   ]
  },
  {
   "cell_type": "code",
   "execution_count": 7,
   "id": "3f478619",
   "metadata": {},
   "outputs": [
    {
     "name": "stdout",
     "output_type": "stream",
     "text": [
      "Ball\n"
     ]
    }
   ],
   "source": [
    "d = {'a':\"Apple\",\"b\":\"Ball\",\"c\":\"Cat\"}\n",
    "print(d['b'])"
   ]
  },
  {
   "cell_type": "code",
   "execution_count": 8,
   "id": "9ba01ba8",
   "metadata": {},
   "outputs": [
    {
     "name": "stdout",
     "output_type": "stream",
     "text": [
      "Cat\n"
     ]
    }
   ],
   "source": [
    "d = {'a':\"Apple\",\"b\":\"Ball\",\"c\":\"Cat\"}\n",
    "print(d['c'])"
   ]
  },
  {
   "cell_type": "code",
   "execution_count": 11,
   "id": "49fbb705",
   "metadata": {},
   "outputs": [
    {
     "name": "stdout",
     "output_type": "stream",
     "text": [
      "{'a': 'Apple', 'b': 'Ball', 'c': 'Cat'}\n"
     ]
    }
   ],
   "source": [
    "d = {'a':\"Apple\",\"b\":\"Ball\",\"c\":\"Cat\"}\n",
    "print(d)"
   ]
  },
  {
   "cell_type": "code",
   "execution_count": 12,
   "id": "d2f4229f",
   "metadata": {},
   "outputs": [
    {
     "name": "stdout",
     "output_type": "stream",
     "text": [
      "Apple\n",
      "3\n"
     ]
    }
   ],
   "source": [
    "d = {'a':\"Apple\",\"b\":\"Ball\",\"c\":\"Cat\"}\n",
    "print(d['a'])\n",
    "print(len(d))"
   ]
  },
  {
   "cell_type": "code",
   "execution_count": 13,
   "id": "ee55d2c5",
   "metadata": {},
   "outputs": [
    {
     "name": "stdout",
     "output_type": "stream",
     "text": [
      "{'a': 'Apple', 'b': 'Ball', 'A': 'Apple'}\n"
     ]
    }
   ],
   "source": [
    "d = {'a':\"Apple\",\"b\":\"Ball\",\"A\":\"Apple\"}\n",
    "print(d)"
   ]
  },
  {
   "cell_type": "code",
   "execution_count": 15,
   "id": "b04220f4",
   "metadata": {},
   "outputs": [
    {
     "name": "stdout",
     "output_type": "stream",
     "text": [
      "{'A': 'Apple', 'b': 'Ball'}\n"
     ]
    }
   ],
   "source": [
    "d = {'A':\"apple\",\"b\":\"Ball\",\"A\":\"Apple\"}\n",
    "print(d)"
   ]
  },
  {
   "cell_type": "code",
   "execution_count": 16,
   "id": "2090d4ca",
   "metadata": {},
   "outputs": [
    {
     "name": "stdout",
     "output_type": "stream",
     "text": [
      "{'A': 'Apple'}\n"
     ]
    }
   ],
   "source": [
    "a ={}\n",
    "a['A'] = \"Apple\"\n",
    "print(a)"
   ]
  },
  {
   "cell_type": "code",
   "execution_count": 18,
   "id": "6bc501d4",
   "metadata": {},
   "outputs": [
    {
     "name": "stdout",
     "output_type": "stream",
     "text": [
      "{'A': 'Apple', 'B': 'Ball', 'C': 'Cat'}\n"
     ]
    }
   ],
   "source": [
    "a = {}\n",
    "a['A'] = \"Apple\"\n",
    "a['B'] = \"Ball\"\n",
    "a['C'] = \"Cat\"\n",
    "print(a)"
   ]
  },
  {
   "cell_type": "code",
   "execution_count": 19,
   "id": "f2166d94",
   "metadata": {},
   "outputs": [
    {
     "name": "stdout",
     "output_type": "stream",
     "text": [
      "{'A': 'apple', 'B': 'Ball', 'C': 'Cat'}\n"
     ]
    }
   ],
   "source": [
    "a = {}\n",
    "a['A'] = \"Apple\"\n",
    "a['B'] = \"Ball\"\n",
    "a['C'] = \"Cat\"\n",
    "a['A'] = \"apple\"\n",
    "print(a)"
   ]
  },
  {
   "cell_type": "code",
   "execution_count": 22,
   "id": "8720249a",
   "metadata": {},
   "outputs": [
    {
     "name": "stdout",
     "output_type": "stream",
     "text": [
      "Enter n = 2\n",
      "Enter name = Ram\n",
      "Enter phone = 234567\n",
      "Enter name = Hari\n",
      "Enter phone = 2345678\n",
      "{'Ram': 234567, 'Hari': 2345678}\n"
     ]
    }
   ],
   "source": [
    "info = dict()\n",
    "n = int(input(\"Enter n = \"))\n",
    "for i in range(n):\n",
    "    name = input(\"Enter name = \")\n",
    "    phone = int(input(\"Enter phone = \"))\n",
    "    info[name] = phone\n",
    "print(info)"
   ]
  },
  {
   "cell_type": "code",
   "execution_count": 23,
   "id": "993be85c",
   "metadata": {},
   "outputs": [
    {
     "name": "stdout",
     "output_type": "stream",
     "text": [
      "Ram\n",
      "Hari\n"
     ]
    }
   ],
   "source": [
    "d = {'Ram': 234567, 'Hari': 2345678}\n",
    "for i in d:\n",
    "    print(i)"
   ]
  },
  {
   "cell_type": "code",
   "execution_count": 24,
   "id": "0fdc5e58",
   "metadata": {},
   "outputs": [
    {
     "name": "stdout",
     "output_type": "stream",
     "text": [
      "234567\n",
      "2345678\n"
     ]
    }
   ],
   "source": [
    "d = {'Ram': 234567, 'Hari': 2345678}\n",
    "for i in d.values():\n",
    "    print(i)"
   ]
  },
  {
   "cell_type": "code",
   "execution_count": 25,
   "id": "5cc0419a",
   "metadata": {},
   "outputs": [
    {
     "name": "stdout",
     "output_type": "stream",
     "text": [
      "('Ram', 234567)\n",
      "('Hari', 2345678)\n"
     ]
    }
   ],
   "source": [
    "d = {'Ram': 234567, 'Hari': 2345678}\n",
    "for i in d.items():\n",
    "    print(i)"
   ]
  },
  {
   "cell_type": "code",
   "execution_count": 27,
   "id": "c75825cd",
   "metadata": {},
   "outputs": [
    {
     "name": "stdout",
     "output_type": "stream",
     "text": [
      "[('Ram', 234567), ('Hari', 2345678)]\n"
     ]
    }
   ],
   "source": [
    "l = list()\n",
    "d = {'Ram': 234567, 'Hari': 2345678}\n",
    "for i in d.items():\n",
    "    l.append(i)\n",
    "print(l)"
   ]
  },
  {
   "cell_type": "code",
   "execution_count": 28,
   "id": "5d316ba9",
   "metadata": {},
   "outputs": [
    {
     "data": {
      "text/plain": [
       "{'Ram': 234567, 'Hari': 2345678}"
      ]
     },
     "execution_count": 28,
     "metadata": {},
     "output_type": "execute_result"
    }
   ],
   "source": [
    "a = [('Ram', 234567), ('Hari', 2345678)]\n",
    "dict(a)"
   ]
  },
  {
   "cell_type": "code",
   "execution_count": 29,
   "id": "0d71fa67",
   "metadata": {},
   "outputs": [
    {
     "data": {
      "text/plain": [
       "['P', 'y', 't', 'h', 'o', 'n']"
      ]
     },
     "execution_count": 29,
     "metadata": {},
     "output_type": "execute_result"
    }
   ],
   "source": [
    "list(\"Python\")"
   ]
  },
  {
   "cell_type": "code",
   "execution_count": 30,
   "id": "353c009a",
   "metadata": {},
   "outputs": [
    {
     "data": {
      "text/plain": [
       "('H', 'e', 'l', 'l', 'o')"
      ]
     },
     "execution_count": 30,
     "metadata": {},
     "output_type": "execute_result"
    }
   ],
   "source": [
    "tuple(\"Hello\")"
   ]
  },
  {
   "cell_type": "code",
   "execution_count": 31,
   "id": "234d7b02",
   "metadata": {},
   "outputs": [
    {
     "name": "stdout",
     "output_type": "stream",
     "text": [
      "{'Ram': '234567898765', 'Hari': 2345678}\n"
     ]
    }
   ],
   "source": [
    "d = {'Ram': 234567, 'Hari': 2345678}\n",
    "d['Ram'] = '234567898765'\n",
    "print(d)"
   ]
  },
  {
   "cell_type": "code",
   "execution_count": 32,
   "id": "fdd9148b",
   "metadata": {},
   "outputs": [
    {
     "name": "stdout",
     "output_type": "stream",
     "text": [
      "{'Hari': 2345678}\n"
     ]
    },
    {
     "data": {
      "text/plain": [
       "[None]"
      ]
     },
     "execution_count": 32,
     "metadata": {},
     "output_type": "execute_result"
    }
   ],
   "source": [
    "# del pop()\n",
    "d = {'Ram': 234567, 'Hari': 2345678}\n",
    "del d['Ram']\n",
    "[print(d)]"
   ]
  },
  {
   "cell_type": "code",
   "execution_count": 33,
   "id": "853e8c15",
   "metadata": {},
   "outputs": [
    {
     "name": "stdout",
     "output_type": "stream",
     "text": [
      "{'Hari': 2345678}\n"
     ]
    }
   ],
   "source": [
    "d = {'Ram': 234567, 'Hari': 2345678}\n",
    "d.pop('Ram')\n",
    "print(d)"
   ]
  },
  {
   "cell_type": "code",
   "execution_count": 34,
   "id": "80e425f2",
   "metadata": {},
   "outputs": [],
   "source": [
    "# list tuple set dict as a value"
   ]
  },
  {
   "cell_type": "code",
   "execution_count": 35,
   "id": "aa0de936",
   "metadata": {},
   "outputs": [
    {
     "name": "stdout",
     "output_type": "stream",
     "text": [
      "{'Ram': ['234567', '9876543'], 'Hari': ['2345678', '9823456']}\n",
      "2\n",
      "<class 'dict'>\n"
     ]
    }
   ],
   "source": [
    "# list inside dictionary\n",
    "d = {'Ram':['234567','9876543'],'Hari': ['2345678','9823456']}\n",
    "print(d)\n",
    "print(len(d))\n",
    "print(type(d))\n"
   ]
  },
  {
   "cell_type": "code",
   "execution_count": 37,
   "id": "b9b95b94",
   "metadata": {},
   "outputs": [
    {
     "name": "stdout",
     "output_type": "stream",
     "text": [
      "['234567', '9876543']\n",
      "2345678\n"
     ]
    }
   ],
   "source": [
    "print(d['Ram'])\n",
    "print(d['Hari'][0])"
   ]
  },
  {
   "cell_type": "code",
   "execution_count": 38,
   "id": "74dd21b5",
   "metadata": {},
   "outputs": [
    {
     "name": "stdout",
     "output_type": "stream",
     "text": [
      "('Ram', ['234567', '9876543'])\n",
      "('Hari', ['2345678', '9823456'])\n"
     ]
    }
   ],
   "source": [
    "d = {'Ram':['234567','9876543'],'Hari': ['2345678','9823456']}\n",
    "for i in d.items():\n",
    "    print(i)"
   ]
  },
  {
   "cell_type": "code",
   "execution_count": 2,
   "id": "5bf30f27",
   "metadata": {},
   "outputs": [
    {
     "name": "stdout",
     "output_type": "stream",
     "text": [
      "Enter n = 2\n",
      "Enter name = Ram\n",
      "Enter ntc phone = 4567890\n",
      "Enter ncell phone = 09876\n",
      "Enter name = Hari\n",
      "Enter ntc phone = 34567890-\n",
      "Enter ncell phone = 98765432\n",
      "{'Ram': ['4567890', '09876'], 'Hari': ['34567890-', '98765432']}\n"
     ]
    }
   ],
   "source": [
    "data = {}\n",
    "n = int(input(\"Enter n = \"))\n",
    "for i in range(n):\n",
    "    name = input(\"Enter name = \")\n",
    "    ntc = input(\"Enter ntc phone = \")\n",
    "    ncell = input(\"Enter ncell phone = \")\n",
    "    data[name] = [ntc,ncell]\n",
    "\n",
    "print(data)"
   ]
  },
  {
   "cell_type": "code",
   "execution_count": null,
   "id": "983cfbcf",
   "metadata": {},
   "outputs": [],
   "source": []
  },
  {
   "cell_type": "code",
   "execution_count": null,
   "id": "6427cd92",
   "metadata": {},
   "outputs": [],
   "source": []
  },
  {
   "cell_type": "code",
   "execution_count": null,
   "id": "80a1d8a3",
   "metadata": {},
   "outputs": [],
   "source": []
  },
  {
   "cell_type": "code",
   "execution_count": 1,
   "id": "6a67a720",
   "metadata": {},
   "outputs": [
    {
     "name": "stdout",
     "output_type": "stream",
     "text": [
      "[{'Name': 'Ram', 'NTC': 9876543, 'Ncell': 12345678}, {'Name': 'Shyam', 'NTC': 45657, 'Ncell': 8765432}]\n",
      "<class 'list'>\n"
     ]
    }
   ],
   "source": [
    "# dict inside list\n",
    "d = [{'Name':\"Ram\",\"NTC\":9876543,\"Ncell\":12345678},{'Name':\"Shyam\",'NTC':45657,'Ncell':8765432}]\n",
    "print(d)\n",
    "print(type(d))"
   ]
  },
  {
   "cell_type": "code",
   "execution_count": 2,
   "id": "6df207b9",
   "metadata": {},
   "outputs": [
    {
     "name": "stdout",
     "output_type": "stream",
     "text": [
      "Ram\n"
     ]
    }
   ],
   "source": [
    "print(d[0]['Name'])"
   ]
  },
  {
   "cell_type": "code",
   "execution_count": 3,
   "id": "d6637c75",
   "metadata": {},
   "outputs": [
    {
     "name": "stdout",
     "output_type": "stream",
     "text": [
      "Shyam\n"
     ]
    }
   ],
   "source": [
    "print(d[1]['Name'])"
   ]
  },
  {
   "cell_type": "code",
   "execution_count": 1,
   "id": "8d8b9c37",
   "metadata": {},
   "outputs": [
    {
     "name": "stdout",
     "output_type": "stream",
     "text": [
      "[{'Name': 'Ram', 'NTC': 98987654, 'Ncell': 98098765}, {'Name': 'Shyam', 'NTC': 2345678, 'Ncell': 765432}]\n"
     ]
    }
   ],
   "source": [
    "# dict inside list\n",
    "l = [{'Name':'Ram','NTC':98987654,'Ncell':98098765},{'Name':'Shyam','NTC':2345678,'Ncell':765432}]\n",
    "print(l)"
   ]
  },
  {
   "cell_type": "code",
   "execution_count": 4,
   "id": "9baf1abf",
   "metadata": {},
   "outputs": [
    {
     "name": "stdout",
     "output_type": "stream",
     "text": [
      "Enter n = 2\n",
      "Enter name = RAm\n",
      "Enter ntc phone = 98765432\n",
      "Enter ncell phone = 123456\n",
      "Enter name = Shyam\n",
      "Enter ntc phone = 34567\n",
      "Enter ncell phone = 65432\n",
      "[{'Name': 'RAm', 'NTC': '98765432', 'NCELL': '123456'}, {'Name': 'Shyam', 'NTC': '34567', 'NCELL': '65432'}]\n"
     ]
    }
   ],
   "source": [
    "data = []\n",
    "n = int(input(\"Enter n = \"))\n",
    "for i in range(n):\n",
    "    name = input(\"Enter name = \")\n",
    "    ntc = input(\"Enter ntc phone = \")\n",
    "    ncell = input(\"Enter ncell phone = \")\n",
    "    info = {'Name':name,'NTC':ntc,'NCELL':ncell}\n",
    "    data.append(info)\n",
    "print(data)"
   ]
  },
  {
   "cell_type": "code",
   "execution_count": 5,
   "id": "9d714655",
   "metadata": {},
   "outputs": [
    {
     "name": "stdout",
     "output_type": "stream",
     "text": [
      "RAm\n"
     ]
    }
   ],
   "source": [
    "print(data[0]['Name'])"
   ]
  },
  {
   "cell_type": "code",
   "execution_count": 6,
   "id": "ec33ff10",
   "metadata": {},
   "outputs": [
    {
     "name": "stdout",
     "output_type": "stream",
     "text": [
      "[{'Name': 'Ram Prasad', 'NTC': '98765432', 'NCELL': '123456'}, {'Name': 'Shyam', 'NTC': '34567', 'NCELL': '65432'}]\n"
     ]
    }
   ],
   "source": [
    "data[0]['Name'] = 'Ram Prasad'\n",
    "print(data)"
   ]
  },
  {
   "cell_type": "code",
   "execution_count": 7,
   "id": "e66a2304",
   "metadata": {},
   "outputs": [
    {
     "data": {
      "text/plain": [
       "[{'Name': 'Ram Prasad', 'NTC': '98765432', 'NCELL': '123456'},\n",
       " {'Name': 'Shyam', 'NTC': '34567', 'NCELL': '65432'}]"
      ]
     },
     "execution_count": 7,
     "metadata": {},
     "output_type": "execute_result"
    }
   ],
   "source": [
    "data"
   ]
  },
  {
   "cell_type": "code",
   "execution_count": 8,
   "id": "0e7094bc",
   "metadata": {},
   "outputs": [
    {
     "data": {
      "text/plain": [
       "{'Name': 'Ram Prasad', 'NTC': '98765432', 'NCELL': '123456'}"
      ]
     },
     "execution_count": 8,
     "metadata": {},
     "output_type": "execute_result"
    }
   ],
   "source": [
    "data[0]"
   ]
  },
  {
   "cell_type": "code",
   "execution_count": 9,
   "id": "03b23741",
   "metadata": {},
   "outputs": [
    {
     "data": {
      "text/plain": [
       "[{'Name': 'Ram Prasad', 'NTC': '98765432', 'NCELL': '123456', 'Land': 4456554},\n",
       " {'Name': 'Shyam', 'NTC': '34567', 'NCELL': '65432'}]"
      ]
     },
     "execution_count": 9,
     "metadata": {},
     "output_type": "execute_result"
    }
   ],
   "source": [
    "data[0]['Land'] = 4456554\n",
    "data"
   ]
  },
  {
   "cell_type": "code",
   "execution_count": 10,
   "id": "5e7485d2",
   "metadata": {},
   "outputs": [],
   "source": [
    "# dict inside dict\n",
    "# d = {<key>:{<key>:<value>}}"
   ]
  },
  {
   "cell_type": "code",
   "execution_count": 11,
   "id": "a3cbb9d7",
   "metadata": {},
   "outputs": [
    {
     "name": "stdout",
     "output_type": "stream",
     "text": [
      "{'Name': 'RAm', 'NTC': '98765432', 'NCELL': '123456'}\n"
     ]
    }
   ],
   "source": [
    "d = {1:{'Name': 'RAm', 'NTC': '98765432', 'NCELL': '123456'}, 2:{'Name': 'Shyam', 'NTC': '34567', 'NCELL': '65432'}}\n",
    "print(d[1])"
   ]
  },
  {
   "cell_type": "code",
   "execution_count": 12,
   "id": "fc5d0e4c",
   "metadata": {},
   "outputs": [
    {
     "name": "stdout",
     "output_type": "stream",
     "text": [
      "RAm\n"
     ]
    }
   ],
   "source": [
    "print(d[1]['Name'])"
   ]
  },
  {
   "cell_type": "code",
   "execution_count": 13,
   "id": "37cb1522",
   "metadata": {
    "scrolled": true
   },
   "outputs": [
    {
     "name": "stdout",
     "output_type": "stream",
     "text": [
      "Enter n = 2\n",
      "Enter name = Ram\n",
      "Enter ntc phone = 98765\n",
      "Enter ncell phone = 1234\n",
      "Enter name = Shyam\n",
      "Enter ntc phone = 65432\n",
      "Enter ncell phone = 3456789\n",
      "{1: {'Name': 'Ram', 'NTC': '98765', 'NCELL': '1234'}, 2: {'Name': 'Shyam', 'NTC': '65432', 'NCELL': '3456789'}}\n"
     ]
    }
   ],
   "source": [
    "data = {}\n",
    "n = int(input(\"Enter n = \"))\n",
    "for i in range(1,n+1):\n",
    "    name = input(\"Enter name = \")\n",
    "    ntc = input(\"Enter ntc phone = \")\n",
    "    ncell = input(\"Enter ncell phone = \")\n",
    "    data[i] = {'Name':name,'NTC':ntc,'NCELL':ncell}\n",
    "print(data)"
   ]
  },
  {
   "cell_type": "code",
   "execution_count": 14,
   "id": "5061981f",
   "metadata": {},
   "outputs": [
    {
     "data": {
      "text/plain": [
       "{1: {'Name': 'Ram', 'NTC': '98765', 'NCELL': '1234'},\n",
       " 2: {'Name': 'Shyam', 'NTC': '65432', 'NCELL': '3456789'},\n",
       " 3: {'Name': 'Hari', 'NTC': 9876543, 'Ncell': 54321}}"
      ]
     },
     "execution_count": 14,
     "metadata": {},
     "output_type": "execute_result"
    }
   ],
   "source": [
    "data[3] = {'Name':'Hari','NTC':9876543,'Ncell':54321}\n",
    "data"
   ]
  },
  {
   "cell_type": "code",
   "execution_count": 15,
   "id": "64959c29",
   "metadata": {},
   "outputs": [
    {
     "data": {
      "text/plain": [
       "'Ram'"
      ]
     },
     "execution_count": 15,
     "metadata": {},
     "output_type": "execute_result"
    }
   ],
   "source": [
    "data[1]['Name']"
   ]
  },
  {
   "cell_type": "code",
   "execution_count": 17,
   "id": "deb5a3c5",
   "metadata": {},
   "outputs": [
    {
     "data": {
      "text/plain": [
       "{1: {'Name': 'Rama', 'NTC': '98765', 'NCELL': '1234'},\n",
       " 2: {'Name': 'Shyam', 'NTC': '65432', 'NCELL': '3456789'},\n",
       " 3: {'Name': 'Hari', 'NTC': 9876543, 'Ncell': 54321}}"
      ]
     },
     "execution_count": 17,
     "metadata": {},
     "output_type": "execute_result"
    }
   ],
   "source": [
    "data[1]['Name'] = \"Rama\"\n",
    "data"
   ]
  },
  {
   "cell_type": "code",
   "execution_count": 18,
   "id": "8b016f47",
   "metadata": {},
   "outputs": [
    {
     "data": {
      "text/plain": [
       "{1: {'Name': 'Rama', 'NTC': [98765432, 234567], 'NCELL': '1234'},\n",
       " 2: {'Name': 'Shyam', 'NTC': '65432', 'NCELL': '3456789'},\n",
       " 3: {'Name': 'Hari', 'NTC': 9876543, 'Ncell': 54321}}"
      ]
     },
     "execution_count": 18,
     "metadata": {},
     "output_type": "execute_result"
    }
   ],
   "source": [
    "data[1]['NTC'] = [98765432,234567]\n",
    "data"
   ]
  },
  {
   "cell_type": "code",
   "execution_count": 19,
   "id": "06b0fde2",
   "metadata": {},
   "outputs": [
    {
     "name": "stdout",
     "output_type": "stream",
     "text": [
      "{('Ram', 'Shyam'): 'Kathmandu'}\n"
     ]
    }
   ],
   "source": [
    "d = {('Ram','Shyam'):'Kathmandu'}\n",
    "print(d)"
   ]
  },
  {
   "cell_type": "code",
   "execution_count": 20,
   "id": "9d961407",
   "metadata": {},
   "outputs": [
    {
     "data": {
      "text/plain": [
       "'Kathmandu'"
      ]
     },
     "execution_count": 20,
     "metadata": {},
     "output_type": "execute_result"
    }
   ],
   "source": [
    "d[('Ram','Shyam')]"
   ]
  },
  {
   "cell_type": "code",
   "execution_count": 21,
   "id": "639507f0",
   "metadata": {},
   "outputs": [
    {
     "data": {
      "text/plain": [
       "dict_items([(('Ram', 'Shyam'), 'Kathmandu')])"
      ]
     },
     "execution_count": 21,
     "metadata": {},
     "output_type": "execute_result"
    }
   ],
   "source": [
    "d = {('Ram','Shyam'):'Kathmandu'}\n",
    "d.items()"
   ]
  },
  {
   "cell_type": "code",
   "execution_count": 22,
   "id": "fe814139",
   "metadata": {},
   "outputs": [
    {
     "name": "stdout",
     "output_type": "stream",
     "text": [
      "('Ram', 'Shyam')\n"
     ]
    }
   ],
   "source": [
    "d = {('Ram','Shyam'):'Kathmandu'}\n",
    "for i in d:\n",
    "    print(i)"
   ]
  },
  {
   "cell_type": "code",
   "execution_count": 23,
   "id": "a9e1e984",
   "metadata": {},
   "outputs": [
    {
     "name": "stdout",
     "output_type": "stream",
     "text": [
      "(('Ram', 'Shyam'), 'Kathmandu')\n"
     ]
    }
   ],
   "source": [
    "d = {('Ram','Shyam'):'Kathmandu'}\n",
    "for i in d.items():\n",
    "    print(i)"
   ]
  },
  {
   "cell_type": "code",
   "execution_count": 25,
   "id": "34d603d2",
   "metadata": {},
   "outputs": [
    {
     "data": {
      "text/plain": [
       "[(('Ram', 'Shyam'), 'Kathmandu')]"
      ]
     },
     "execution_count": 25,
     "metadata": {},
     "output_type": "execute_result"
    }
   ],
   "source": [
    "data = []\n",
    "d = {('Ram','Shyam'):'Kathmandu'}\n",
    "for i in d.items():\n",
    "    data.append(i)\n",
    "data"
   ]
  },
  {
   "cell_type": "code",
   "execution_count": 26,
   "id": "83de2823",
   "metadata": {},
   "outputs": [
    {
     "name": "stdout",
     "output_type": "stream",
     "text": [
      "(('Ram', 'Shyam'), 'Kathmandu')\n"
     ]
    }
   ],
   "source": [
    "data = []\n",
    "d = {('Ram','Shyam'):'Kathmandu'}\n",
    "for i in d.items():\n",
    "    if 'Ram' in i[0]:\n",
    "        print(i)\n"
   ]
  },
  {
   "cell_type": "code",
   "execution_count": 27,
   "id": "9c66579b",
   "metadata": {},
   "outputs": [
    {
     "name": "stdout",
     "output_type": "stream",
     "text": [
      "(('Ram', 'Shyam'), 'Kathmandu')\n"
     ]
    }
   ],
   "source": [
    "data = []\n",
    "d = {('Ram','Shyam'):'Kathmandu',('Hari','Sita'):'Patan'}\n",
    "for i in d.items():\n",
    "    if 'Ram' in i[0]:\n",
    "        print(i)\n"
   ]
  },
  {
   "cell_type": "code",
   "execution_count": 30,
   "id": "22c87108",
   "metadata": {},
   "outputs": [
    {
     "data": {
      "text/plain": [
       "{1: {'Name': 'Akash', 'Physics': {'Th': 60, 'Pr': 20}},\n",
       " 2: {'Name': 'Shyam', 'Physics': {'Th': 50, 'Pr': 25}}}"
      ]
     },
     "execution_count": 30,
     "metadata": {},
     "output_type": "execute_result"
    }
   ],
   "source": [
    "d = {1:{'Name':'Akash','Physics':{'Th':60,'Pr':20}},2:{'Name':'Shyam','Physics':{'Th':50,'Pr':25}}}\n",
    "d"
   ]
  },
  {
   "cell_type": "code",
   "execution_count": null,
   "id": "dc64ca1c",
   "metadata": {},
   "outputs": [],
   "source": [
    "data = {}\n",
    "n = int(input(\"Enter n = \"))\n",
    "for i in range(1,n+1):\n",
    "    name = input(\"Enter name = \")\n",
    "    \n",
    "    \n",
    "    "
   ]
  }
 ],
 "metadata": {
  "kernelspec": {
   "display_name": "Python 3 (ipykernel)",
   "language": "python",
   "name": "python3"
  },
  "language_info": {
   "codemirror_mode": {
    "name": "ipython",
    "version": 3
   },
   "file_extension": ".py",
   "mimetype": "text/x-python",
   "name": "python",
   "nbconvert_exporter": "python",
   "pygments_lexer": "ipython3",
   "version": "3.9.7"
  }
 },
 "nbformat": 4,
 "nbformat_minor": 5
}

{
 "cells": [
  {
   "cell_type": "code",
   "execution_count": null,
   "id": "aed313db",
   "metadata": {},
   "outputs": [],
   "source": [
    "# 1.WAP to find the given no is prime or composite\n",
    "# 2.WAP to draw patterns\n",
    "# *\n",
    "# **\n",
    "# ***\n",
    "# ****\n",
    "# *****\n",
    "# 3.WAP to remove all digits from a given string(0,1,2,3,4,5,6,7,8,9)\n",
    "# 4.WAP to make a result management system"
   ]
  },
  {
   "cell_type": "markdown",
   "id": "902bc1fa",
   "metadata": {},
   "source": [
    "# WAP to find the given no is prime or composite\n",
    "\n",
    "num = int(input(\"Enter any number = \"))\n",
    "if num>1:\n",
    "    for i in range(2,num):\n",
    "        if (num%1) == 0:\n",
    "            print(num,\"is not a prime number\")\n",
    "            break\n",
    "        else:\n",
    "            print(num,\"is prime number\")\n",
    "elif num == 0 or 1:\n",
    "        print(num,\"is neither prime nor composite number\")\n",
    "else:\n",
    "        print(num,\"is composite number\")"
   ]
  },
  {
   "cell_type": "code",
   "execution_count": 4,
   "id": "d41b5fc6",
   "metadata": {},
   "outputs": [
    {
     "name": "stdout",
     "output_type": "stream",
     "text": [
      "*\n",
      "**\n",
      "***\n",
      "****\n",
      "*****\n"
     ]
    }
   ],
   "source": [
    "# WAP to draw patterns\n",
    "# *\n",
    "# **\n",
    "# ***\n",
    "# ****\n",
    "# *****\n",
    "\n",
    "n = 5\n",
    "for i in range(1,n+1):\n",
    "    print(\"*\"*i)"
   ]
  },
  {
   "cell_type": "code",
   "execution_count": 1,
   "id": "79538589",
   "metadata": {},
   "outputs": [
    {
     "name": "stdout",
     "output_type": "stream",
     "text": [
      "Enter n = 2\n",
      "Enter the name of student = Sarnim\n",
      "Enter marks of science = 98\n",
      "Enter marks of maths = 88\n",
      "Enter marks of english = 86\n",
      "Enter marks of computer = 90\n",
      "Enter marks of nepali = 82\n",
      "Enter marks of social = 85\n",
      "Distinction\n",
      "86 %\n",
      "Enter the name of student = Nirmal\n",
      "Enter marks of science = 88\n",
      "Enter marks of maths = 87\n",
      "Enter marks of english = 78\n",
      "Enter marks of computer = 55\n",
      "Enter marks of nepali = 45\n",
      "Enter marks of social = 56\n",
      "Second division\n",
      "62 %\n"
     ]
    }
   ],
   "source": [
    "# WAP to make a result management system\n",
    "\n",
    "total = 0\n",
    "n = int(input(\"Enter n = \"))\n",
    "for i in range(n):\n",
    "    name = input(\"Enter the name of student = \")\n",
    "    s = int(input(\"Enter marks of science = \"))\n",
    "    m = int(input(\"Enter marks of maths = \"))\n",
    "    e = int(input(\"Enter marks of english = \"))\n",
    "    c = int(input(\"Enter marks of computer = \"))\n",
    "    n = int(input(\"Enter marks of nepali = \"))\n",
    "    s = int(input(\"Enter marks of social = \"))\n",
    "    sum = s+m+e+c+n+s\n",
    "    Alltotal = int(total+sum)\n",
    "    percentage = int(Alltotal/6)\n",
    "    if percentage<40:\n",
    "        print(\"Fail\")\n",
    "    elif percentage<=50 and percentage>=40:\n",
    "        print(\"fourth division\")\n",
    "    elif percentage<=60 and percentage>=50:\n",
    "        print(\"Second division\")\n",
    "    elif percentage<=70 and percentage>=60:\n",
    "        print(\"Second division\")\n",
    "    elif percentage<=80 and percentage>=70:\n",
    "        print(\"First division\")\n",
    "    elif percentage<=90 and percentage>=80:\n",
    "        print(\"Distinction\")\n",
    "    elif percentage<=100 and percentage>=90:\n",
    "        print(\"A+\")\n",
    "    else:\n",
    "        print(\"invalid number\")\n",
    "    print(percentage,\"%\")"
   ]
  },
  {
   "cell_type": "code",
   "execution_count": 2,
   "id": "95acc5aa",
   "metadata": {},
   "outputs": [
    {
     "name": "stdout",
     "output_type": "stream",
     "text": [
      "Enter any num = 5\n",
      "The factorial is 1\n",
      "The factorial is 2\n",
      "The factorial is 6\n",
      "The factorial is 24\n",
      "The factorial is 120\n"
     ]
    }
   ],
   "source": [
    "# WAP to calculate factorial of numbers\n",
    "\n",
    "n = int(input(\"Enter any num = \"))\n",
    "fact = 1\n",
    "for i in range(1,n+1):\n",
    "    fact = fact*i\n",
    "    print(\"The factorial is\",fact)"
   ]
  },
  {
   "cell_type": "code",
   "execution_count": null,
   "id": "7ab9edf0",
   "metadata": {},
   "outputs": [],
   "source": []
  }
 ],
 "metadata": {
  "kernelspec": {
   "display_name": "Python 3 (ipykernel)",
   "language": "python",
   "name": "python3"
  },
  "language_info": {
   "codemirror_mode": {
    "name": "ipython",
    "version": 3
   },
   "file_extension": ".py",
   "mimetype": "text/x-python",
   "name": "python",
   "nbconvert_exporter": "python",
   "pygments_lexer": "ipython3",
   "version": "3.9.7"
  }
 },
 "nbformat": 4,
 "nbformat_minor": 5
}

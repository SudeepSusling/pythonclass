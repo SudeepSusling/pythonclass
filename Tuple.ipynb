{
 "cells": [
  {
   "cell_type": "code",
   "execution_count": 1,
   "id": "b64eb13d",
   "metadata": {},
   "outputs": [],
   "source": [
    "# Tuple\n",
    "# -Indexed\n",
    "# -Ordered\n",
    "# -Multiple Data\n",
    "# -Duplicate Data\n",
    "# -Immutable"
   ]
  },
  {
   "cell_type": "code",
   "execution_count": 2,
   "id": "18ee760c",
   "metadata": {},
   "outputs": [
    {
     "name": "stdout",
     "output_type": "stream",
     "text": [
      "(1, 2, 3)\n",
      "<class 'tuple'>\n"
     ]
    }
   ],
   "source": [
    "a = (1,2,3)\n",
    "print(a)\n",
    "print(type(a))"
   ]
  },
  {
   "cell_type": "code",
   "execution_count": 3,
   "id": "1e6b5bb3",
   "metadata": {},
   "outputs": [
    {
     "name": "stdout",
     "output_type": "stream",
     "text": [
      "1\n",
      "<class 'int'>\n"
     ]
    }
   ],
   "source": [
    "a = (1)\n",
    "print(a)\n",
    "print(type(a))"
   ]
  },
  {
   "cell_type": "code",
   "execution_count": 4,
   "id": "76ad5e23",
   "metadata": {},
   "outputs": [
    {
     "name": "stdout",
     "output_type": "stream",
     "text": [
      "Apple\n",
      "<class 'str'>\n"
     ]
    }
   ],
   "source": [
    "a = (\"Apple\")\n",
    "print(a)\n",
    "print(type(a))"
   ]
  },
  {
   "cell_type": "code",
   "execution_count": 5,
   "id": "2769272b",
   "metadata": {},
   "outputs": [
    {
     "name": "stdout",
     "output_type": "stream",
     "text": [
      "('Apple',)\n",
      "<class 'tuple'>\n"
     ]
    }
   ],
   "source": [
    "a = (\"Apple\",)\n",
    "print(a)\n",
    "print(type(a))"
   ]
  },
  {
   "cell_type": "code",
   "execution_count": 6,
   "id": "52092989",
   "metadata": {},
   "outputs": [
    {
     "name": "stdout",
     "output_type": "stream",
     "text": [
      "Apple\n"
     ]
    }
   ],
   "source": [
    "a = (\"Apple\",\"Ball\",\"Cat\",\"Dog\")\n",
    "print(a[0])"
   ]
  },
  {
   "cell_type": "code",
   "execution_count": 7,
   "id": "d4aefe9d",
   "metadata": {},
   "outputs": [
    {
     "name": "stdout",
     "output_type": "stream",
     "text": [
      "['Apple', 'Ball', 'Cat']\n"
     ]
    }
   ],
   "source": [
    "a = [\"Apple\",\"Ball\",\"Cat\",\"Dog\"]\n",
    "print(a[0:3])"
   ]
  },
  {
   "cell_type": "code",
   "execution_count": 12,
   "id": "49b7db79",
   "metadata": {},
   "outputs": [
    {
     "name": "stdout",
     "output_type": "stream",
     "text": [
      "a+b\n",
      "['Apple', 'Ball', 'Cat', 'Dog']\n"
     ]
    }
   ],
   "source": [
    "a = [\"Apple\",\"Ball\",\"Cat\",\"Dog\"]\n",
    "b = (\"Fish\",)\n",
    "print(\"a+b\")\n",
    "print(a)"
   ]
  },
  {
   "cell_type": "code",
   "execution_count": 14,
   "id": "ed565518",
   "metadata": {},
   "outputs": [],
   "source": [
    "# append() insert() extend() del remove() pop()"
   ]
  },
  {
   "cell_type": "code",
   "execution_count": 15,
   "id": "b3b746f3",
   "metadata": {},
   "outputs": [],
   "source": [
    "a = [\"Zebra\"]"
   ]
  },
  {
   "cell_type": "code",
   "execution_count": 17,
   "id": "f2655f81",
   "metadata": {},
   "outputs": [
    {
     "name": "stdout",
     "output_type": "stream",
     "text": [
      "['Apple', 'Ball', 'Cat', 'Dog', 'Zebra']\n",
      "('Zebra', 'Apple', 'Ball', 'Cat', 'Dog')\n"
     ]
    }
   ],
   "source": [
    "a = (\"Zebra\",\"Apple\",\"Ball\",\"Cat\",\"Dog\")\n",
    "print(sorted(a))\n",
    "print(a)"
   ]
  },
  {
   "cell_type": "code",
   "execution_count": 19,
   "id": "cdcf2976",
   "metadata": {},
   "outputs": [
    {
     "name": "stdout",
     "output_type": "stream",
     "text": [
      "['Zebra', 'Apple', 'Ball', 'Cat', 'Dog']\n"
     ]
    }
   ],
   "source": [
    "a = (\"Zebra\",\"Apple\",\"Ball\",\"Cat\",\"Dog\")\n",
    "b = list(a)\n",
    "print(b)"
   ]
  },
  {
   "cell_type": "code",
   "execution_count": 3,
   "id": "e7cbbb97",
   "metadata": {},
   "outputs": [
    {
     "data": {
      "text/plain": [
       "('Apple', 'Ball', 'Cat', 'Dog')"
      ]
     },
     "execution_count": 3,
     "metadata": {},
     "output_type": "execute_result"
    }
   ],
   "source": [
    "a = (\"Zebra\",\"Apple\",\"Ball\",\"Cat\",\"Dog\")\n",
    "b = list(a)\n",
    "b.remove(\"Zebra\")\n",
    "a = tuple(b)\n",
    "a"
   ]
  },
  {
   "cell_type": "code",
   "execution_count": 4,
   "id": "13492530",
   "metadata": {},
   "outputs": [],
   "source": [
    "# min() max () sum() index() search read"
   ]
  },
  {
   "cell_type": "code",
   "execution_count": 5,
   "id": "bcafe558",
   "metadata": {},
   "outputs": [
    {
     "data": {
      "text/plain": [
       "1"
      ]
     },
     "execution_count": 5,
     "metadata": {},
     "output_type": "execute_result"
    }
   ],
   "source": [
    "a = (\"Zebra\",\"Apple\",\"Ball\",\"Cat\",\"Dog\")\n",
    "a.index(\"Apple\")"
   ]
  },
  {
   "cell_type": "code",
   "execution_count": 6,
   "id": "061a9273",
   "metadata": {},
   "outputs": [
    {
     "name": "stdout",
     "output_type": "stream",
     "text": [
      "Zebra\n",
      "Apple\n",
      "Ball\n",
      "Cat\n",
      "Dog\n"
     ]
    }
   ],
   "source": [
    "a = (\"Zebra\",\"Apple\",\"Ball\",\"Cat\",\"Dog\")\n",
    "for i in a:\n",
    "    print(i)"
   ]
  },
  {
   "cell_type": "code",
   "execution_count": 7,
   "id": "6057645c",
   "metadata": {},
   "outputs": [
    {
     "name": "stdout",
     "output_type": "stream",
     "text": [
      "Yes\n"
     ]
    }
   ],
   "source": [
    "a = (\"Zebra\",\"Apple\",\"Ball\",\"Cat\",\"Dog\")\n",
    "if \"Apple\" in a:\n",
    "    print(\"Yes\")"
   ]
  },
  {
   "cell_type": "code",
   "execution_count": 3,
   "id": "80a61b3b",
   "metadata": {},
   "outputs": [
    {
     "name": "stdout",
     "output_type": "stream",
     "text": [
      "Enter n = 5\n",
      "Enter x = 4322\n",
      "Enter x = 345\n",
      "Enter x = 23\n",
      "Enter x = 45\n",
      "Enter x = 234\n",
      "(4322, 345, 23, 45, 234)\n"
     ]
    }
   ],
   "source": [
    "data = ()\n",
    "n = int(input(\"Enter n = \"))\n",
    "for i in range(n):\n",
    "    x = int(input(\"Enter x = \"))\n",
    "    data = data+(x,)\n",
    "print(data)"
   ]
  },
  {
   "cell_type": "code",
   "execution_count": 4,
   "id": "a0746e77",
   "metadata": {},
   "outputs": [
    {
     "data": {
      "text/plain": [
       "'Hello'"
      ]
     },
     "execution_count": 4,
     "metadata": {},
     "output_type": "execute_result"
    }
   ],
   "source": [
    "def hello():\n",
    "    return 'Hello'\n",
    "hello()"
   ]
  },
  {
   "cell_type": "code",
   "execution_count": 5,
   "id": "e8a187ba",
   "metadata": {},
   "outputs": [
    {
     "data": {
      "text/plain": [
       "('Hello', 'World')"
      ]
     },
     "execution_count": 5,
     "metadata": {},
     "output_type": "execute_result"
    }
   ],
   "source": [
    "def hello():\n",
    "    return \"Hello\",\"World\"\n",
    "hello()"
   ]
  },
  {
   "cell_type": "code",
   "execution_count": 7,
   "id": "c6f3e38c",
   "metadata": {},
   "outputs": [
    {
     "name": "stdout",
     "output_type": "stream",
     "text": [
      "Hello\n",
      "World\n"
     ]
    }
   ],
   "source": [
    "def hello():\n",
    "    return \"Hello\",\"World\"\n",
    "print(hello()[0])\n",
    "print(hello()[1])"
   ]
  },
  {
   "cell_type": "code",
   "execution_count": 9,
   "id": "793b5c80",
   "metadata": {},
   "outputs": [
    {
     "name": "stdout",
     "output_type": "stream",
     "text": [
      "('Hello', 'World')\n"
     ]
    }
   ],
   "source": [
    "def hello(z):\n",
    "    print(z)\n",
    "t = (\"Hello\",\"World\")\n",
    "hello(t)"
   ]
  },
  {
   "cell_type": "code",
   "execution_count": 10,
   "id": "3816706c",
   "metadata": {},
   "outputs": [
    {
     "name": "stdout",
     "output_type": "stream",
     "text": [
      "Hello World\n"
     ]
    }
   ],
   "source": [
    "def hello(z):\n",
    "    print(z[0],z[1])\n",
    "t = (\"Hello\",\"World\")\n",
    "hello(t)"
   ]
  },
  {
   "cell_type": "code",
   "execution_count": 11,
   "id": "abd8fc13",
   "metadata": {},
   "outputs": [],
   "source": [
    "## tuple inside tuple\n",
    "# a = (1,2,3),\n",
    "#     (4,5,6),\n",
    "#     (7,8,9))"
   ]
  },
  {
   "cell_type": "code",
   "execution_count": 12,
   "id": "926fec50",
   "metadata": {},
   "outputs": [
    {
     "name": "stdout",
     "output_type": "stream",
     "text": [
      "Enter n = 2\n",
      "Enter name = RM\n",
      "Enter age = 34\n",
      "Enter address = Kathmandu\n",
      "Enter name = Shyam\n",
      "Enter age = 22\n",
      "Enter address = Lalitpur\n",
      "((1, 'RM', 34, 'Kathmandu'), (2, 'Shyam', 22, 'Lalitpur'))\n"
     ]
    }
   ],
   "source": [
    "data = ()\n",
    "n = int(input(\"Enter n = \"))\n",
    "for i in range(1,n+1):\n",
    "    name = input(\"Enter name = \")\n",
    "    age = int(input(\"Enter age = \"))\n",
    "    add = input(\"Enter address = \")\n",
    "    info = (i,name,age,add)\n",
    "    data = data+(info,)\n",
    "    \n",
    "print(data)"
   ]
  },
  {
   "cell_type": "code",
   "execution_count": 1,
   "id": "6a33cb1c",
   "metadata": {},
   "outputs": [
    {
     "name": "stdout",
     "output_type": "stream",
     "text": [
      "[[1, 2, 3], [4, 5, 6], [7, 8, 9]]\n"
     ]
    }
   ],
   "source": [
    "# tuple inside tuple to list inside list\n",
    "\n",
    "a = ((1,2,3)),((4,5,6)),((7,8,9))\n",
    "b = [list(x) for x in a]\n",
    "print(b)"
   ]
  },
  {
   "cell_type": "code",
   "execution_count": 13,
   "id": "41ca088d",
   "metadata": {},
   "outputs": [],
   "source": [
    "# tuple inside tuple to list inside list\n",
    "# list inside tuple\n",
    "# tuple inside list"
   ]
  },
  {
   "cell_type": "code",
   "execution_count": 2,
   "id": "6a333524",
   "metadata": {},
   "outputs": [
    {
     "name": "stdout",
     "output_type": "stream",
     "text": [
      "[1, 2, 3]\n",
      "([1, 2, 3, 4], [4, 5, 6], [7, 8, 9])\n"
     ]
    }
   ],
   "source": [
    "# list inside tuple\n",
    "\n",
    "a = ([1,2,3],[4,5,6],[7,8,9])\n",
    "print(a[0])\n",
    "a[0].append(4)\n",
    "print(a)"
   ]
  },
  {
   "cell_type": "code",
   "execution_count": 3,
   "id": "d816153f",
   "metadata": {},
   "outputs": [
    {
     "name": "stdout",
     "output_type": "stream",
     "text": [
      "[1, 2, 3]\n",
      "([11, 2, 3], [4, 5, 6], [7, 8, 9])\n"
     ]
    }
   ],
   "source": [
    "a = ([1,2,3],[4,5,6],[7,8,9])\n",
    "print(a[0])\n",
    "a[0][0] = 11\n",
    "print(a)"
   ]
  },
  {
   "cell_type": "code",
   "execution_count": 4,
   "id": "e533ce19",
   "metadata": {},
   "outputs": [
    {
     "name": "stdout",
     "output_type": "stream",
     "text": [
      "[(1, 2, 3), (4, 5, 6), (7, 8, 9)]\n"
     ]
    }
   ],
   "source": [
    "# list inside tuple\n",
    "\n",
    "a = [(1,2,3),(4,5,6),(7,8,9)]\n",
    "print(a)"
   ]
  },
  {
   "cell_type": "code",
   "execution_count": 5,
   "id": "d8664a47",
   "metadata": {},
   "outputs": [
    {
     "name": "stdout",
     "output_type": "stream",
     "text": [
      "[(1, 2, 3), (4, 5, 6), (7, 8, 9), (11, 22, 33)]\n"
     ]
    }
   ],
   "source": [
    "# list inside tuple\n",
    "\n",
    "a = [(1,2,3),(4,5,6),(7,8,9)]\n",
    "b = (11,22,33)\n",
    "a.append(b)\n",
    "print(a)"
   ]
  },
  {
   "cell_type": "code",
   "execution_count": 7,
   "id": "b1962c07",
   "metadata": {},
   "outputs": [
    {
     "data": {
      "text/plain": [
       "[(1, 2, 33), (4, 5, 6), (7, 8, 9)]"
      ]
     },
     "execution_count": 7,
     "metadata": {},
     "output_type": "execute_result"
    }
   ],
   "source": [
    "# list inside tuple\n",
    "\n",
    "a = [(1,2,3),(4,5,6),(7,8,9)]\n",
    "a[0] = (1,2,33)\n",
    "a"
   ]
  },
  {
   "cell_type": "code",
   "execution_count": 8,
   "id": "2ea560a2",
   "metadata": {},
   "outputs": [
    {
     "name": "stdout",
     "output_type": "stream",
     "text": [
      "[[1, 2, 3], [4, 5, 6], [7, 8, 9]]\n"
     ]
    }
   ],
   "source": [
    "# tuple inside tuple to list inside list\n",
    "b = []\n",
    "a = ((1,2,3),(4,5,6),(7,8,9))\n",
    "for i in a:\n",
    "    x = list(i)\n",
    "    b.append(x)\n",
    "print(b)"
   ]
  },
  {
   "cell_type": "code",
   "execution_count": null,
   "id": "3c2d7a55",
   "metadata": {},
   "outputs": [],
   "source": []
  }
 ],
 "metadata": {
  "kernelspec": {
   "display_name": "Python 3 (ipykernel)",
   "language": "python",
   "name": "python3"
  },
  "language_info": {
   "codemirror_mode": {
    "name": "ipython",
    "version": 3
   },
   "file_extension": ".py",
   "mimetype": "text/x-python",
   "name": "python",
   "nbconvert_exporter": "python",
   "pygments_lexer": "ipython3",
   "version": "3.9.7"
  }
 },
 "nbformat": 4,
 "nbformat_minor": 5
}
